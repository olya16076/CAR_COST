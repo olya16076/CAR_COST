{
 "cells": [
  {
   "cell_type": "markdown",
   "id": "ec5ceff9",
   "metadata": {},
   "source": [
    "# Определение стоимости автомобиля"
   ]
  },
  {
   "cell_type": "markdown",
   "id": "9c8550aa",
   "metadata": {},
   "source": [
    "Сервис по продаже автомобилей с пробегом «Не бит, не крашен» разрабатывает приложение для привлечения новых клиентов. В нём можно быстро узнать рыночную стоимость своего автомобиля. В вашем распоряжении исторические данные: технические характеристики, комплектации и цены автомобилей. Вам нужно построить модель для определения стоимости.\n",
    "\n",
    "Заказчику важны:\n",
    "\n",
    " 1. качество предсказания;  \n",
    " 2. скорость предсказания;\n",
    " 3. время обучения."
   ]
  },
  {
   "cell_type": "markdown",
   "id": "81149f8f",
   "metadata": {},
   "source": [
    "# 1. Подготовка данных"
   ]
  },
  {
   "cell_type": "markdown",
   "id": "5def4905",
   "metadata": {},
   "source": [
    "# 1.1. Анализ данных"
   ]
  },
  {
   "cell_type": "code",
   "execution_count": 2,
   "id": "c3877b32",
   "metadata": {},
   "outputs": [],
   "source": [
    "#импорт  стандартных библиотек\n",
    "import pandas as pd\n",
    "import numpy as np\n",
    "import seaborn as sns\n",
    "import matplotlib.pyplot as plt\n",
    "from sklearn.model_selection import train_test_split, cross_val_score\n",
    "from sklearn.tree import DecisionTreeRegressor\n",
    "from sklearn.ensemble import RandomForestRegressor\n",
    "from sklearn.tree import DecisionTreeClassifier\n",
    "from sklearn.linear_model import LinearRegression\n",
    "from sklearn.linear_model import LogisticRegressionCV\n",
    "from numpy.random import RandomState\n",
    "from sklearn.metrics import make_scorer, mean_absolute_error\n",
    "from sklearn.dummy import DummyRegressor\n",
    "from sklearn.model_selection import RandomizedSearchCV\n",
    "from sklearn.preprocessing import StandardScaler\n",
    "from sklearn.preprocessing import OneHotEncoder\n",
    "from sklearn.model_selection import GridSearchCV\n",
    "import time \n",
    "from sklearn.metrics import mean_squared_error as mse \n",
    "from sklearn.preprocessing import LabelEncoder\n",
    "from sklearn.ensemble import RandomForestClassifier\n",
    "from sklearn.compose import ColumnTransformer\n",
    "from sklearn.neighbors import KNeighborsRegressor\n",
    "from sklearn.preprocessing import OneHotEncoder\n",
    "from sklearn.preprocessing import OrdinalEncoder, StandardScaler\n",
    "from sklearn.metrics import mean_squared_error\n",
    "from sklearn.metrics import make_scorer, mean_squared_error \n",
    "from numpy import mean\n",
    "from numpy import absolute\n",
    "from numpy import sqrt"
   ]
  },
  {
   "cell_type": "code",
   "execution_count": 3,
   "id": "c55cd89b",
   "metadata": {},
   "outputs": [
    {
     "name": "stdout",
     "output_type": "stream",
     "text": [
      "Requirement already satisfied: phik in c:\\users\\user\\anaconda3\\lib\\site-packages (0.12.3)\n",
      "Requirement already satisfied: joblib>=0.14.1 in c:\\users\\user\\anaconda3\\lib\\site-packages (from phik) (1.1.0)\n",
      "Requirement already satisfied: pandas>=0.25.1 in c:\\users\\user\\anaconda3\\lib\\site-packages (from phik) (1.4.4)\n",
      "Requirement already satisfied: matplotlib>=2.2.3 in c:\\users\\user\\anaconda3\\lib\\site-packages (from phik) (3.5.2)\n",
      "Requirement already satisfied: numpy>=1.18.0 in c:\\users\\user\\anaconda3\\lib\\site-packages (from phik) (1.21.5)\n",
      "Requirement already satisfied: scipy>=1.5.2 in c:\\users\\user\\anaconda3\\lib\\site-packages (from phik) (1.9.1)\n",
      "Requirement already satisfied: kiwisolver>=1.0.1 in c:\\users\\user\\anaconda3\\lib\\site-packages (from matplotlib>=2.2.3->phik) (1.4.2)\n",
      "Requirement already satisfied: pillow>=6.2.0 in c:\\users\\user\\anaconda3\\lib\\site-packages (from matplotlib>=2.2.3->phik) (9.2.0)\n",
      "Requirement already satisfied: pyparsing>=2.2.1 in c:\\users\\user\\anaconda3\\lib\\site-packages (from matplotlib>=2.2.3->phik) (3.0.9)\n",
      "Requirement already satisfied: python-dateutil>=2.7 in c:\\users\\user\\anaconda3\\lib\\site-packages (from matplotlib>=2.2.3->phik) (2.8.2)\n",
      "Requirement already satisfied: packaging>=20.0 in c:\\users\\user\\anaconda3\\lib\\site-packages (from matplotlib>=2.2.3->phik) (21.3)\n",
      "Requirement already satisfied: fonttools>=4.22.0 in c:\\users\\user\\anaconda3\\lib\\site-packages (from matplotlib>=2.2.3->phik) (4.25.0)\n",
      "Requirement already satisfied: cycler>=0.10 in c:\\users\\user\\anaconda3\\lib\\site-packages (from matplotlib>=2.2.3->phik) (0.11.0)\n",
      "Requirement already satisfied: pytz>=2020.1 in c:\\users\\user\\anaconda3\\lib\\site-packages (from pandas>=0.25.1->phik) (2022.1)\n",
      "Requirement already satisfied: six>=1.5 in c:\\users\\user\\anaconda3\\lib\\site-packages (from python-dateutil>=2.7->matplotlib>=2.2.3->phik) (1.16.0)\n",
      "Requirement already satisfied: catboost in c:\\users\\user\\anaconda3\\lib\\site-packages (1.1.1)\n",
      "Requirement already satisfied: six in c:\\users\\user\\anaconda3\\lib\\site-packages (from catboost) (1.16.0)\n",
      "Requirement already satisfied: pandas>=0.24.0 in c:\\users\\user\\anaconda3\\lib\\site-packages (from catboost) (1.4.4)\n",
      "Requirement already satisfied: matplotlib in c:\\users\\user\\anaconda3\\lib\\site-packages (from catboost) (3.5.2)\n",
      "Requirement already satisfied: graphviz in c:\\users\\user\\anaconda3\\lib\\site-packages (from catboost) (0.20.1)\n",
      "Requirement already satisfied: plotly in c:\\users\\user\\anaconda3\\lib\\site-packages (from catboost) (5.9.0)\n",
      "Requirement already satisfied: numpy>=1.16.0 in c:\\users\\user\\anaconda3\\lib\\site-packages (from catboost) (1.21.5)\n",
      "Requirement already satisfied: scipy in c:\\users\\user\\anaconda3\\lib\\site-packages (from catboost) (1.9.1)\n",
      "Requirement already satisfied: pytz>=2020.1 in c:\\users\\user\\anaconda3\\lib\\site-packages (from pandas>=0.24.0->catboost) (2022.1)\n",
      "Requirement already satisfied: python-dateutil>=2.8.1 in c:\\users\\user\\anaconda3\\lib\\site-packages (from pandas>=0.24.0->catboost) (2.8.2)\n",
      "Requirement already satisfied: fonttools>=4.22.0 in c:\\users\\user\\anaconda3\\lib\\site-packages (from matplotlib->catboost) (4.25.0)\n",
      "Requirement already satisfied: pyparsing>=2.2.1 in c:\\users\\user\\anaconda3\\lib\\site-packages (from matplotlib->catboost) (3.0.9)\n",
      "Requirement already satisfied: packaging>=20.0 in c:\\users\\user\\anaconda3\\lib\\site-packages (from matplotlib->catboost) (21.3)\n",
      "Requirement already satisfied: kiwisolver>=1.0.1 in c:\\users\\user\\anaconda3\\lib\\site-packages (from matplotlib->catboost) (1.4.2)\n",
      "Requirement already satisfied: cycler>=0.10 in c:\\users\\user\\anaconda3\\lib\\site-packages (from matplotlib->catboost) (0.11.0)\n",
      "Requirement already satisfied: pillow>=6.2.0 in c:\\users\\user\\anaconda3\\lib\\site-packages (from matplotlib->catboost) (9.2.0)\n",
      "Requirement already satisfied: tenacity>=6.2.0 in c:\\users\\user\\anaconda3\\lib\\site-packages (from plotly->catboost) (8.0.1)\n",
      "Requirement already satisfied: lightgbm in c:\\users\\user\\anaconda3\\lib\\site-packages (3.3.5)\n",
      "Requirement already satisfied: scipy in c:\\users\\user\\anaconda3\\lib\\site-packages (from lightgbm) (1.9.1)\n",
      "Requirement already satisfied: wheel in c:\\users\\user\\anaconda3\\lib\\site-packages (from lightgbm) (0.37.1)\n",
      "Requirement already satisfied: scikit-learn!=0.22.0 in c:\\users\\user\\anaconda3\\lib\\site-packages (from lightgbm) (1.0.2)\n",
      "Requirement already satisfied: numpy in c:\\users\\user\\anaconda3\\lib\\site-packages (from lightgbm) (1.21.5)\n",
      "Requirement already satisfied: joblib>=0.11 in c:\\users\\user\\anaconda3\\lib\\site-packages (from scikit-learn!=0.22.0->lightgbm) (1.1.0)\n",
      "Requirement already satisfied: threadpoolctl>=2.0.0 in c:\\users\\user\\anaconda3\\lib\\site-packages (from scikit-learn!=0.22.0->lightgbm) (2.2.0)\n",
      "Requirement already satisfied: xgboost in c:\\users\\user\\anaconda3\\lib\\site-packages (1.7.4)\n",
      "Requirement already satisfied: scipy in c:\\users\\user\\anaconda3\\lib\\site-packages (from xgboost) (1.9.1)\n",
      "Requirement already satisfied: numpy in c:\\users\\user\\anaconda3\\lib\\site-packages (from xgboost) (1.21.5)\n",
      "Requirement already satisfied: category_encoders in c:\\users\\user\\anaconda3\\lib\\site-packages (2.6.0)\n",
      "Requirement already satisfied: numpy>=1.14.0 in c:\\users\\user\\anaconda3\\lib\\site-packages (from category_encoders) (1.21.5)\n",
      "Requirement already satisfied: patsy>=0.5.1 in c:\\users\\user\\anaconda3\\lib\\site-packages (from category_encoders) (0.5.2)\n",
      "Requirement already satisfied: statsmodels>=0.9.0 in c:\\users\\user\\anaconda3\\lib\\site-packages (from category_encoders) (0.13.2)\n",
      "Requirement already satisfied: scikit-learn>=0.20.0 in c:\\users\\user\\anaconda3\\lib\\site-packages (from category_encoders) (1.0.2)\n",
      "Requirement already satisfied: scipy>=1.0.0 in c:\\users\\user\\anaconda3\\lib\\site-packages (from category_encoders) (1.9.1)\n",
      "Requirement already satisfied: pandas>=1.0.5 in c:\\users\\user\\anaconda3\\lib\\site-packages (from category_encoders) (1.4.4)\n",
      "Requirement already satisfied: pytz>=2020.1 in c:\\users\\user\\anaconda3\\lib\\site-packages (from pandas>=1.0.5->category_encoders) (2022.1)\n",
      "Requirement already satisfied: python-dateutil>=2.8.1 in c:\\users\\user\\anaconda3\\lib\\site-packages (from pandas>=1.0.5->category_encoders) (2.8.2)\n",
      "Requirement already satisfied: six in c:\\users\\user\\anaconda3\\lib\\site-packages (from patsy>=0.5.1->category_encoders) (1.16.0)\n",
      "Requirement already satisfied: joblib>=0.11 in c:\\users\\user\\anaconda3\\lib\\site-packages (from scikit-learn>=0.20.0->category_encoders) (1.1.0)\n",
      "Requirement already satisfied: threadpoolctl>=2.0.0 in c:\\users\\user\\anaconda3\\lib\\site-packages (from scikit-learn>=0.20.0->category_encoders) (2.2.0)\n",
      "Requirement already satisfied: packaging>=21.3 in c:\\users\\user\\anaconda3\\lib\\site-packages (from statsmodels>=0.9.0->category_encoders) (21.3)\n",
      "Requirement already satisfied: pyparsing!=3.0.5,>=2.0.2 in c:\\users\\user\\anaconda3\\lib\\site-packages (from packaging>=21.3->statsmodels>=0.9.0->category_encoders) (3.0.9)\n"
     ]
    }
   ],
   "source": [
    "#импорт сторонних библиотек\n",
    "!pip install phik\n",
    "from phik import report\n",
    "from phik.report import plot_correlation_matrix\n",
    "!pip install catboost\n",
    "!pip install lightgbm\n",
    "!pip install xgboost\n",
    "import catboost\n",
    "from catboost import CatBoostRegressor \n",
    "from lightgbm import LGBMRegressor\n",
    "from xgboost import XGBRegressor\n",
    "!pip install category_encoders\n",
    "from category_encoders.target_encoder import TargetEncoder"
   ]
  },
  {
   "cell_type": "code",
   "execution_count": 4,
   "id": "7932aec7",
   "metadata": {},
   "outputs": [],
   "source": [
    "try:\n",
    "    data = pd.read_csv('/datasets/autos.csv')\n",
    "except:\n",
    "    data = pd.read_csv('autos.csv')"
   ]
  },
  {
   "cell_type": "code",
   "execution_count": 5,
   "id": "de639dff",
   "metadata": {},
   "outputs": [
    {
     "data": {
      "text/html": [
       "<div>\n",
       "<style scoped>\n",
       "    .dataframe tbody tr th:only-of-type {\n",
       "        vertical-align: middle;\n",
       "    }\n",
       "\n",
       "    .dataframe tbody tr th {\n",
       "        vertical-align: top;\n",
       "    }\n",
       "\n",
       "    .dataframe thead th {\n",
       "        text-align: right;\n",
       "    }\n",
       "</style>\n",
       "<table border=\"1\" class=\"dataframe\">\n",
       "  <thead>\n",
       "    <tr style=\"text-align: right;\">\n",
       "      <th></th>\n",
       "      <th>DateCrawled</th>\n",
       "      <th>Price</th>\n",
       "      <th>VehicleType</th>\n",
       "      <th>RegistrationYear</th>\n",
       "      <th>Gearbox</th>\n",
       "      <th>Power</th>\n",
       "      <th>Model</th>\n",
       "      <th>Kilometer</th>\n",
       "      <th>RegistrationMonth</th>\n",
       "      <th>FuelType</th>\n",
       "      <th>Brand</th>\n",
       "      <th>Repaired</th>\n",
       "      <th>DateCreated</th>\n",
       "      <th>NumberOfPictures</th>\n",
       "      <th>PostalCode</th>\n",
       "      <th>LastSeen</th>\n",
       "    </tr>\n",
       "  </thead>\n",
       "  <tbody>\n",
       "    <tr>\n",
       "      <th>0</th>\n",
       "      <td>2016-03-24 11:52:17</td>\n",
       "      <td>480</td>\n",
       "      <td>NaN</td>\n",
       "      <td>1993</td>\n",
       "      <td>manual</td>\n",
       "      <td>0</td>\n",
       "      <td>golf</td>\n",
       "      <td>150000</td>\n",
       "      <td>0</td>\n",
       "      <td>petrol</td>\n",
       "      <td>volkswagen</td>\n",
       "      <td>NaN</td>\n",
       "      <td>2016-03-24 00:00:00</td>\n",
       "      <td>0</td>\n",
       "      <td>70435</td>\n",
       "      <td>2016-04-07 03:16:57</td>\n",
       "    </tr>\n",
       "    <tr>\n",
       "      <th>1</th>\n",
       "      <td>2016-03-24 10:58:45</td>\n",
       "      <td>18300</td>\n",
       "      <td>coupe</td>\n",
       "      <td>2011</td>\n",
       "      <td>manual</td>\n",
       "      <td>190</td>\n",
       "      <td>NaN</td>\n",
       "      <td>125000</td>\n",
       "      <td>5</td>\n",
       "      <td>gasoline</td>\n",
       "      <td>audi</td>\n",
       "      <td>yes</td>\n",
       "      <td>2016-03-24 00:00:00</td>\n",
       "      <td>0</td>\n",
       "      <td>66954</td>\n",
       "      <td>2016-04-07 01:46:50</td>\n",
       "    </tr>\n",
       "    <tr>\n",
       "      <th>2</th>\n",
       "      <td>2016-03-14 12:52:21</td>\n",
       "      <td>9800</td>\n",
       "      <td>suv</td>\n",
       "      <td>2004</td>\n",
       "      <td>auto</td>\n",
       "      <td>163</td>\n",
       "      <td>grand</td>\n",
       "      <td>125000</td>\n",
       "      <td>8</td>\n",
       "      <td>gasoline</td>\n",
       "      <td>jeep</td>\n",
       "      <td>NaN</td>\n",
       "      <td>2016-03-14 00:00:00</td>\n",
       "      <td>0</td>\n",
       "      <td>90480</td>\n",
       "      <td>2016-04-05 12:47:46</td>\n",
       "    </tr>\n",
       "    <tr>\n",
       "      <th>3</th>\n",
       "      <td>2016-03-17 16:54:04</td>\n",
       "      <td>1500</td>\n",
       "      <td>small</td>\n",
       "      <td>2001</td>\n",
       "      <td>manual</td>\n",
       "      <td>75</td>\n",
       "      <td>golf</td>\n",
       "      <td>150000</td>\n",
       "      <td>6</td>\n",
       "      <td>petrol</td>\n",
       "      <td>volkswagen</td>\n",
       "      <td>no</td>\n",
       "      <td>2016-03-17 00:00:00</td>\n",
       "      <td>0</td>\n",
       "      <td>91074</td>\n",
       "      <td>2016-03-17 17:40:17</td>\n",
       "    </tr>\n",
       "    <tr>\n",
       "      <th>4</th>\n",
       "      <td>2016-03-31 17:25:20</td>\n",
       "      <td>3600</td>\n",
       "      <td>small</td>\n",
       "      <td>2008</td>\n",
       "      <td>manual</td>\n",
       "      <td>69</td>\n",
       "      <td>fabia</td>\n",
       "      <td>90000</td>\n",
       "      <td>7</td>\n",
       "      <td>gasoline</td>\n",
       "      <td>skoda</td>\n",
       "      <td>no</td>\n",
       "      <td>2016-03-31 00:00:00</td>\n",
       "      <td>0</td>\n",
       "      <td>60437</td>\n",
       "      <td>2016-04-06 10:17:21</td>\n",
       "    </tr>\n",
       "    <tr>\n",
       "      <th>5</th>\n",
       "      <td>2016-04-04 17:36:23</td>\n",
       "      <td>650</td>\n",
       "      <td>sedan</td>\n",
       "      <td>1995</td>\n",
       "      <td>manual</td>\n",
       "      <td>102</td>\n",
       "      <td>3er</td>\n",
       "      <td>150000</td>\n",
       "      <td>10</td>\n",
       "      <td>petrol</td>\n",
       "      <td>bmw</td>\n",
       "      <td>yes</td>\n",
       "      <td>2016-04-04 00:00:00</td>\n",
       "      <td>0</td>\n",
       "      <td>33775</td>\n",
       "      <td>2016-04-06 19:17:07</td>\n",
       "    </tr>\n",
       "    <tr>\n",
       "      <th>6</th>\n",
       "      <td>2016-04-01 20:48:51</td>\n",
       "      <td>2200</td>\n",
       "      <td>convertible</td>\n",
       "      <td>2004</td>\n",
       "      <td>manual</td>\n",
       "      <td>109</td>\n",
       "      <td>2_reihe</td>\n",
       "      <td>150000</td>\n",
       "      <td>8</td>\n",
       "      <td>petrol</td>\n",
       "      <td>peugeot</td>\n",
       "      <td>no</td>\n",
       "      <td>2016-04-01 00:00:00</td>\n",
       "      <td>0</td>\n",
       "      <td>67112</td>\n",
       "      <td>2016-04-05 18:18:39</td>\n",
       "    </tr>\n",
       "    <tr>\n",
       "      <th>7</th>\n",
       "      <td>2016-03-21 18:54:38</td>\n",
       "      <td>0</td>\n",
       "      <td>sedan</td>\n",
       "      <td>1980</td>\n",
       "      <td>manual</td>\n",
       "      <td>50</td>\n",
       "      <td>other</td>\n",
       "      <td>40000</td>\n",
       "      <td>7</td>\n",
       "      <td>petrol</td>\n",
       "      <td>volkswagen</td>\n",
       "      <td>no</td>\n",
       "      <td>2016-03-21 00:00:00</td>\n",
       "      <td>0</td>\n",
       "      <td>19348</td>\n",
       "      <td>2016-03-25 16:47:58</td>\n",
       "    </tr>\n",
       "    <tr>\n",
       "      <th>8</th>\n",
       "      <td>2016-04-04 23:42:13</td>\n",
       "      <td>14500</td>\n",
       "      <td>bus</td>\n",
       "      <td>2014</td>\n",
       "      <td>manual</td>\n",
       "      <td>125</td>\n",
       "      <td>c_max</td>\n",
       "      <td>30000</td>\n",
       "      <td>8</td>\n",
       "      <td>petrol</td>\n",
       "      <td>ford</td>\n",
       "      <td>NaN</td>\n",
       "      <td>2016-04-04 00:00:00</td>\n",
       "      <td>0</td>\n",
       "      <td>94505</td>\n",
       "      <td>2016-04-04 23:42:13</td>\n",
       "    </tr>\n",
       "    <tr>\n",
       "      <th>9</th>\n",
       "      <td>2016-03-17 10:53:50</td>\n",
       "      <td>999</td>\n",
       "      <td>small</td>\n",
       "      <td>1998</td>\n",
       "      <td>manual</td>\n",
       "      <td>101</td>\n",
       "      <td>golf</td>\n",
       "      <td>150000</td>\n",
       "      <td>0</td>\n",
       "      <td>NaN</td>\n",
       "      <td>volkswagen</td>\n",
       "      <td>NaN</td>\n",
       "      <td>2016-03-17 00:00:00</td>\n",
       "      <td>0</td>\n",
       "      <td>27472</td>\n",
       "      <td>2016-03-31 17:17:06</td>\n",
       "    </tr>\n",
       "  </tbody>\n",
       "</table>\n",
       "</div>"
      ],
      "text/plain": [
       "           DateCrawled  Price  VehicleType  RegistrationYear Gearbox  Power  \\\n",
       "0  2016-03-24 11:52:17    480          NaN              1993  manual      0   \n",
       "1  2016-03-24 10:58:45  18300        coupe              2011  manual    190   \n",
       "2  2016-03-14 12:52:21   9800          suv              2004    auto    163   \n",
       "3  2016-03-17 16:54:04   1500        small              2001  manual     75   \n",
       "4  2016-03-31 17:25:20   3600        small              2008  manual     69   \n",
       "5  2016-04-04 17:36:23    650        sedan              1995  manual    102   \n",
       "6  2016-04-01 20:48:51   2200  convertible              2004  manual    109   \n",
       "7  2016-03-21 18:54:38      0        sedan              1980  manual     50   \n",
       "8  2016-04-04 23:42:13  14500          bus              2014  manual    125   \n",
       "9  2016-03-17 10:53:50    999        small              1998  manual    101   \n",
       "\n",
       "     Model  Kilometer  RegistrationMonth  FuelType       Brand Repaired  \\\n",
       "0     golf     150000                  0    petrol  volkswagen      NaN   \n",
       "1      NaN     125000                  5  gasoline        audi      yes   \n",
       "2    grand     125000                  8  gasoline        jeep      NaN   \n",
       "3     golf     150000                  6    petrol  volkswagen       no   \n",
       "4    fabia      90000                  7  gasoline       skoda       no   \n",
       "5      3er     150000                 10    petrol         bmw      yes   \n",
       "6  2_reihe     150000                  8    petrol     peugeot       no   \n",
       "7    other      40000                  7    petrol  volkswagen       no   \n",
       "8    c_max      30000                  8    petrol        ford      NaN   \n",
       "9     golf     150000                  0       NaN  volkswagen      NaN   \n",
       "\n",
       "           DateCreated  NumberOfPictures  PostalCode             LastSeen  \n",
       "0  2016-03-24 00:00:00                 0       70435  2016-04-07 03:16:57  \n",
       "1  2016-03-24 00:00:00                 0       66954  2016-04-07 01:46:50  \n",
       "2  2016-03-14 00:00:00                 0       90480  2016-04-05 12:47:46  \n",
       "3  2016-03-17 00:00:00                 0       91074  2016-03-17 17:40:17  \n",
       "4  2016-03-31 00:00:00                 0       60437  2016-04-06 10:17:21  \n",
       "5  2016-04-04 00:00:00                 0       33775  2016-04-06 19:17:07  \n",
       "6  2016-04-01 00:00:00                 0       67112  2016-04-05 18:18:39  \n",
       "7  2016-03-21 00:00:00                 0       19348  2016-03-25 16:47:58  \n",
       "8  2016-04-04 00:00:00                 0       94505  2016-04-04 23:42:13  \n",
       "9  2016-03-17 00:00:00                 0       27472  2016-03-31 17:17:06  "
      ]
     },
     "execution_count": 5,
     "metadata": {},
     "output_type": "execute_result"
    }
   ],
   "source": [
    "data.head(10)"
   ]
  },
  {
   "cell_type": "code",
   "execution_count": 6,
   "id": "b047dad4",
   "metadata": {},
   "outputs": [
    {
     "name": "stdout",
     "output_type": "stream",
     "text": [
      "<class 'pandas.core.frame.DataFrame'>\n",
      "RangeIndex: 354369 entries, 0 to 354368\n",
      "Data columns (total 16 columns):\n",
      " #   Column             Non-Null Count   Dtype \n",
      "---  ------             --------------   ----- \n",
      " 0   DateCrawled        354369 non-null  object\n",
      " 1   Price              354369 non-null  int64 \n",
      " 2   VehicleType        316879 non-null  object\n",
      " 3   RegistrationYear   354369 non-null  int64 \n",
      " 4   Gearbox            334536 non-null  object\n",
      " 5   Power              354369 non-null  int64 \n",
      " 6   Model              334664 non-null  object\n",
      " 7   Kilometer          354369 non-null  int64 \n",
      " 8   RegistrationMonth  354369 non-null  int64 \n",
      " 9   FuelType           321474 non-null  object\n",
      " 10  Brand              354369 non-null  object\n",
      " 11  Repaired           283215 non-null  object\n",
      " 12  DateCreated        354369 non-null  object\n",
      " 13  NumberOfPictures   354369 non-null  int64 \n",
      " 14  PostalCode         354369 non-null  int64 \n",
      " 15  LastSeen           354369 non-null  object\n",
      "dtypes: int64(7), object(9)\n",
      "memory usage: 43.3+ MB\n"
     ]
    }
   ],
   "source": [
    "data.info()"
   ]
  },
  {
   "cell_type": "code",
   "execution_count": 7,
   "id": "b5f0dc9f",
   "metadata": {},
   "outputs": [
    {
     "name": "stdout",
     "output_type": "stream",
     "text": [
      "Количество пропущенных значений в таблице: 181077\n"
     ]
    }
   ],
   "source": [
    "print('Количество пропущенных значений в таблице:', data.isnull().sum().sum ())"
   ]
  },
  {
   "cell_type": "code",
   "execution_count": 8,
   "id": "a1e3b84d",
   "metadata": {},
   "outputs": [
    {
     "data": {
      "text/html": [
       "<style type=\"text/css\">\n",
       "#T_faacd_row0_col0, #T_faacd_row1_col0, #T_faacd_row3_col0, #T_faacd_row5_col0, #T_faacd_row7_col0, #T_faacd_row8_col0, #T_faacd_row10_col0, #T_faacd_row12_col0, #T_faacd_row13_col0, #T_faacd_row14_col0, #T_faacd_row15_col0 {\n",
       "  background-color: #3b4cc0;\n",
       "  color: #f1f1f1;\n",
       "}\n",
       "#T_faacd_row2_col0 {\n",
       "  background-color: #e3d9d3;\n",
       "  color: #000000;\n",
       "}\n",
       "#T_faacd_row4_col0 {\n",
       "  background-color: #97b8ff;\n",
       "  color: #000000;\n",
       "}\n",
       "#T_faacd_row6_col0 {\n",
       "  background-color: #96b7ff;\n",
       "  color: #000000;\n",
       "}\n",
       "#T_faacd_row9_col0 {\n",
       "  background-color: #d3dbe7;\n",
       "  color: #000000;\n",
       "}\n",
       "#T_faacd_row11_col0 {\n",
       "  background-color: #b40426;\n",
       "  color: #f1f1f1;\n",
       "}\n",
       "</style>\n",
       "<table id=\"T_faacd\">\n",
       "  <thead>\n",
       "    <tr>\n",
       "      <th class=\"blank level0\" >&nbsp;</th>\n",
       "      <th id=\"T_faacd_level0_col0\" class=\"col_heading level0 col0\" >пропуски</th>\n",
       "    </tr>\n",
       "  </thead>\n",
       "  <tbody>\n",
       "    <tr>\n",
       "      <th id=\"T_faacd_level0_row0\" class=\"row_heading level0 row0\" >DateCrawled</th>\n",
       "      <td id=\"T_faacd_row0_col0\" class=\"data row0 col0\" >0</td>\n",
       "    </tr>\n",
       "    <tr>\n",
       "      <th id=\"T_faacd_level0_row1\" class=\"row_heading level0 row1\" >Price</th>\n",
       "      <td id=\"T_faacd_row1_col0\" class=\"data row1 col0\" >0</td>\n",
       "    </tr>\n",
       "    <tr>\n",
       "      <th id=\"T_faacd_level0_row2\" class=\"row_heading level0 row2\" >VehicleType</th>\n",
       "      <td id=\"T_faacd_row2_col0\" class=\"data row2 col0\" >37490</td>\n",
       "    </tr>\n",
       "    <tr>\n",
       "      <th id=\"T_faacd_level0_row3\" class=\"row_heading level0 row3\" >RegistrationYear</th>\n",
       "      <td id=\"T_faacd_row3_col0\" class=\"data row3 col0\" >0</td>\n",
       "    </tr>\n",
       "    <tr>\n",
       "      <th id=\"T_faacd_level0_row4\" class=\"row_heading level0 row4\" >Gearbox</th>\n",
       "      <td id=\"T_faacd_row4_col0\" class=\"data row4 col0\" >19833</td>\n",
       "    </tr>\n",
       "    <tr>\n",
       "      <th id=\"T_faacd_level0_row5\" class=\"row_heading level0 row5\" >Power</th>\n",
       "      <td id=\"T_faacd_row5_col0\" class=\"data row5 col0\" >0</td>\n",
       "    </tr>\n",
       "    <tr>\n",
       "      <th id=\"T_faacd_level0_row6\" class=\"row_heading level0 row6\" >Model</th>\n",
       "      <td id=\"T_faacd_row6_col0\" class=\"data row6 col0\" >19705</td>\n",
       "    </tr>\n",
       "    <tr>\n",
       "      <th id=\"T_faacd_level0_row7\" class=\"row_heading level0 row7\" >Kilometer</th>\n",
       "      <td id=\"T_faacd_row7_col0\" class=\"data row7 col0\" >0</td>\n",
       "    </tr>\n",
       "    <tr>\n",
       "      <th id=\"T_faacd_level0_row8\" class=\"row_heading level0 row8\" >RegistrationMonth</th>\n",
       "      <td id=\"T_faacd_row8_col0\" class=\"data row8 col0\" >0</td>\n",
       "    </tr>\n",
       "    <tr>\n",
       "      <th id=\"T_faacd_level0_row9\" class=\"row_heading level0 row9\" >FuelType</th>\n",
       "      <td id=\"T_faacd_row9_col0\" class=\"data row9 col0\" >32895</td>\n",
       "    </tr>\n",
       "    <tr>\n",
       "      <th id=\"T_faacd_level0_row10\" class=\"row_heading level0 row10\" >Brand</th>\n",
       "      <td id=\"T_faacd_row10_col0\" class=\"data row10 col0\" >0</td>\n",
       "    </tr>\n",
       "    <tr>\n",
       "      <th id=\"T_faacd_level0_row11\" class=\"row_heading level0 row11\" >Repaired</th>\n",
       "      <td id=\"T_faacd_row11_col0\" class=\"data row11 col0\" >71154</td>\n",
       "    </tr>\n",
       "    <tr>\n",
       "      <th id=\"T_faacd_level0_row12\" class=\"row_heading level0 row12\" >DateCreated</th>\n",
       "      <td id=\"T_faacd_row12_col0\" class=\"data row12 col0\" >0</td>\n",
       "    </tr>\n",
       "    <tr>\n",
       "      <th id=\"T_faacd_level0_row13\" class=\"row_heading level0 row13\" >NumberOfPictures</th>\n",
       "      <td id=\"T_faacd_row13_col0\" class=\"data row13 col0\" >0</td>\n",
       "    </tr>\n",
       "    <tr>\n",
       "      <th id=\"T_faacd_level0_row14\" class=\"row_heading level0 row14\" >PostalCode</th>\n",
       "      <td id=\"T_faacd_row14_col0\" class=\"data row14 col0\" >0</td>\n",
       "    </tr>\n",
       "    <tr>\n",
       "      <th id=\"T_faacd_level0_row15\" class=\"row_heading level0 row15\" >LastSeen</th>\n",
       "      <td id=\"T_faacd_row15_col0\" class=\"data row15 col0\" >0</td>\n",
       "    </tr>\n",
       "  </tbody>\n",
       "</table>\n"
      ],
      "text/plain": [
       "<pandas.io.formats.style.Styler at 0x23fce32ea30>"
      ]
     },
     "execution_count": 8,
     "metadata": {},
     "output_type": "execute_result"
    }
   ],
   "source": [
    "pd.DataFrame(data.isna().sum(), columns = ['пропуски']).style.background_gradient('coolwarm')"
   ]
  },
  {
   "cell_type": "code",
   "execution_count": 9,
   "id": "67086d00",
   "metadata": {},
   "outputs": [
    {
     "name": "stdout",
     "output_type": "stream",
     "text": [
      "(354369, 16)\n"
     ]
    }
   ],
   "source": [
    "print(data.shape)"
   ]
  },
  {
   "cell_type": "code",
   "execution_count": 10,
   "id": "ba9dac75",
   "metadata": {},
   "outputs": [
    {
     "data": {
      "text/html": [
       "<div>\n",
       "<style scoped>\n",
       "    .dataframe tbody tr th:only-of-type {\n",
       "        vertical-align: middle;\n",
       "    }\n",
       "\n",
       "    .dataframe tbody tr th {\n",
       "        vertical-align: top;\n",
       "    }\n",
       "\n",
       "    .dataframe thead th {\n",
       "        text-align: right;\n",
       "    }\n",
       "</style>\n",
       "<table border=\"1\" class=\"dataframe\">\n",
       "  <thead>\n",
       "    <tr style=\"text-align: right;\">\n",
       "      <th></th>\n",
       "      <th>Price</th>\n",
       "      <th>RegistrationYear</th>\n",
       "      <th>Power</th>\n",
       "      <th>Kilometer</th>\n",
       "      <th>RegistrationMonth</th>\n",
       "      <th>NumberOfPictures</th>\n",
       "      <th>PostalCode</th>\n",
       "    </tr>\n",
       "  </thead>\n",
       "  <tbody>\n",
       "    <tr>\n",
       "      <th>count</th>\n",
       "      <td>354369.000000</td>\n",
       "      <td>354369.000000</td>\n",
       "      <td>354369.000000</td>\n",
       "      <td>354369.000000</td>\n",
       "      <td>354369.000000</td>\n",
       "      <td>354369.0</td>\n",
       "      <td>354369.000000</td>\n",
       "    </tr>\n",
       "    <tr>\n",
       "      <th>mean</th>\n",
       "      <td>4416.656776</td>\n",
       "      <td>2004.234448</td>\n",
       "      <td>110.094337</td>\n",
       "      <td>128211.172535</td>\n",
       "      <td>5.714645</td>\n",
       "      <td>0.0</td>\n",
       "      <td>50508.689087</td>\n",
       "    </tr>\n",
       "    <tr>\n",
       "      <th>std</th>\n",
       "      <td>4514.158514</td>\n",
       "      <td>90.227958</td>\n",
       "      <td>189.850405</td>\n",
       "      <td>37905.341530</td>\n",
       "      <td>3.726421</td>\n",
       "      <td>0.0</td>\n",
       "      <td>25783.096248</td>\n",
       "    </tr>\n",
       "    <tr>\n",
       "      <th>min</th>\n",
       "      <td>0.000000</td>\n",
       "      <td>1000.000000</td>\n",
       "      <td>0.000000</td>\n",
       "      <td>5000.000000</td>\n",
       "      <td>0.000000</td>\n",
       "      <td>0.0</td>\n",
       "      <td>1067.000000</td>\n",
       "    </tr>\n",
       "    <tr>\n",
       "      <th>25%</th>\n",
       "      <td>1050.000000</td>\n",
       "      <td>1999.000000</td>\n",
       "      <td>69.000000</td>\n",
       "      <td>125000.000000</td>\n",
       "      <td>3.000000</td>\n",
       "      <td>0.0</td>\n",
       "      <td>30165.000000</td>\n",
       "    </tr>\n",
       "    <tr>\n",
       "      <th>50%</th>\n",
       "      <td>2700.000000</td>\n",
       "      <td>2003.000000</td>\n",
       "      <td>105.000000</td>\n",
       "      <td>150000.000000</td>\n",
       "      <td>6.000000</td>\n",
       "      <td>0.0</td>\n",
       "      <td>49413.000000</td>\n",
       "    </tr>\n",
       "    <tr>\n",
       "      <th>75%</th>\n",
       "      <td>6400.000000</td>\n",
       "      <td>2008.000000</td>\n",
       "      <td>143.000000</td>\n",
       "      <td>150000.000000</td>\n",
       "      <td>9.000000</td>\n",
       "      <td>0.0</td>\n",
       "      <td>71083.000000</td>\n",
       "    </tr>\n",
       "    <tr>\n",
       "      <th>max</th>\n",
       "      <td>20000.000000</td>\n",
       "      <td>9999.000000</td>\n",
       "      <td>20000.000000</td>\n",
       "      <td>150000.000000</td>\n",
       "      <td>12.000000</td>\n",
       "      <td>0.0</td>\n",
       "      <td>99998.000000</td>\n",
       "    </tr>\n",
       "  </tbody>\n",
       "</table>\n",
       "</div>"
      ],
      "text/plain": [
       "               Price  RegistrationYear          Power      Kilometer  \\\n",
       "count  354369.000000     354369.000000  354369.000000  354369.000000   \n",
       "mean     4416.656776       2004.234448     110.094337  128211.172535   \n",
       "std      4514.158514         90.227958     189.850405   37905.341530   \n",
       "min         0.000000       1000.000000       0.000000    5000.000000   \n",
       "25%      1050.000000       1999.000000      69.000000  125000.000000   \n",
       "50%      2700.000000       2003.000000     105.000000  150000.000000   \n",
       "75%      6400.000000       2008.000000     143.000000  150000.000000   \n",
       "max     20000.000000       9999.000000   20000.000000  150000.000000   \n",
       "\n",
       "       RegistrationMonth  NumberOfPictures     PostalCode  \n",
       "count      354369.000000          354369.0  354369.000000  \n",
       "mean            5.714645               0.0   50508.689087  \n",
       "std             3.726421               0.0   25783.096248  \n",
       "min             0.000000               0.0    1067.000000  \n",
       "25%             3.000000               0.0   30165.000000  \n",
       "50%             6.000000               0.0   49413.000000  \n",
       "75%             9.000000               0.0   71083.000000  \n",
       "max            12.000000               0.0   99998.000000  "
      ]
     },
     "execution_count": 10,
     "metadata": {},
     "output_type": "execute_result"
    }
   ],
   "source": [
    "data.describe()"
   ]
  },
  {
   "cell_type": "code",
   "execution_count": 11,
   "id": "0c8a9243",
   "metadata": {},
   "outputs": [
    {
     "name": "stdout",
     "output_type": "stream",
     "text": [
      "Количество дубликатов значений  в таблице: 4\n"
     ]
    }
   ],
   "source": [
    "print('Количество дубликатов значений  в таблице:' , data.duplicated().sum())"
   ]
  },
  {
   "cell_type": "markdown",
   "id": "e9ffa08f",
   "metadata": {},
   "source": [
    "Датасет состоит из 14 столбцов.(Признаки) Из них 'Price' является целевым признаком типа данных 'int64'. В соответсвии с информацией о датасете'DateCrawled','VehicleType', 'Gearbox', 'Model', 'FuelType', 'Brand', 'Repaired', 'DateCreated', 'LastSeen' являются типом данных object. 'RegistrationYear', 'Power', 'Kilometer', 'RegistrationMonth', 'PostalCode' - тип данных целочисленный. Пропуски в данных с типом данных 'object'. Количество дубликатов 4. Количество пропусков 181077"
   ]
  },
  {
   "cell_type": "markdown",
   "id": "92692949",
   "metadata": {},
   "source": [
    "# 1.2. Предподготовка данных перед делением на выборки"
   ]
  },
  {
   "cell_type": "markdown",
   "id": "1cef10b9",
   "metadata": {},
   "source": [
    "В этом пункте проекта я рассмотрю каждый признак отдельно и произведу подготовку данных перед делением на выборки: очистить датасет от выбросов, аномальных значений и т.д."
   ]
  },
  {
   "cell_type": "code",
   "execution_count": null,
   "id": "c2117c56",
   "metadata": {},
   "outputs": [],
   "source": [
    "#data['DateCrawled'].unique() "
   ]
  },
  {
   "cell_type": "code",
   "execution_count": null,
   "id": "516ad7ba",
   "metadata": {},
   "outputs": [],
   "source": [
    "#data['DateCreated'].unique() "
   ]
  },
  {
   "cell_type": "markdown",
   "id": "16bed2bd",
   "metadata": {},
   "source": [
    "Больших временных ограничений по дате скачивания анкеты из базы дата создания анкеты не имеет больших временных границ. Все анкета скачивались и загружались в течении 2016-2015 гг. Поэтому я считаю, что данные столбцы необходимо удалить для более быстрого и эффективного подбора гиперпараметров для моделей МО, в том числе градиентного бустинга.\n"
   ]
  },
  {
   "cell_type": "code",
   "execution_count": 12,
   "id": "a2d0cf99",
   "metadata": {},
   "outputs": [],
   "source": [
    "#произведу замену пропусков в категориальных признаках заглушкой 'unknown' так как не все модели с бустингами будут работать с пропусками\n",
    "data = data.fillna('unknown') "
   ]
  },
  {
   "cell_type": "markdown",
   "id": "61878fc4",
   "metadata": {},
   "source": [
    "рименение восстановления категориальных признаков в данном случае считаю некорректным так как:\n",
    "       \n",
    "    1. Признак 'Repaired' так как точно или ближе к точному невозможно узнать была ли машина в ремонте. Есть некая зависимость от того, что чем машина новее, тем больше вероятность, что она не была в ремонте. Но это лишь вероятность. А какова погрешность этой вероятности? Насколько она точная. Код представлен ниже. Например, среди новых автомобилей старше 2012 года, были в ремонте 12.8 %. 19,6% были в ремонте среди автомобилей с 2000 по 2012 год. 14,2 % среди супер ретро не были в ремонте. Автомобили просто ретро не представлены.\n",
    "       \n",
    "    2. Признаки, где есть значение other ('другие'). По моему мнению, другие означают другие, например модели автомобилей, кроме тех, что представлены в списке уникальных значений. Если поместить все пропуски например модельного ряда с пропусками, вероятность того, что попадут модели уже известны очень большая. А пропусков в категориальных признаках очень много. Поэтому исходя из всего вышесказанного, я решила применить заглушку 'unknown', для наиболее точного заполнения пропущенных значений."
   ]
  },
  {
   "cell_type": "code",
   "execution_count": null,
   "id": "22d272c0",
   "metadata": {},
   "outputs": [],
   "source": [
    "#данные загружены после удаления аномалий в столбце о дате регистрации и применения заглушки\n",
    "#def Age_auto(row):\n",
    "    #RegistrationYear = row['RegistrationYear']\n",
    "    #if RegistrationYear <= 1980:\n",
    "        #return 'Супер ретро'\n",
    "    #if 1980 > RegistrationYear <= 2000:\n",
    "        #return 'Ретро'\n",
    "    #if 2000 > RegistrationYear <= 2012:\n",
    "        #return 'Старые автомобили'\n",
    "    #if RegistrationYear > 2012:\n",
    "        #return 'Новые автомобили'\n",
    "#data['AgeType'] = data.apply(Age_auto, axis=1)\n",
    "#s = data.groupby(['Repaired' , 'AgeType']).agg(data=('AgeType', 'count'))\n",
    "#print(s)  \n",
    "\n",
    "#данные закомментила, чтобы не перегружать датасет лишними столбцами. "
   ]
  },
  {
   "cell_type": "code",
   "execution_count": 13,
   "id": "8d78e1a8",
   "metadata": {},
   "outputs": [],
   "source": [
    "#удаление неиформативных столбцов\n",
    "data.drop(columns=['NumberOfPictures', 'LastSeen', 'PostalCode', 'DateCreated', 'DateCrawled', 'RegistrationMonth'], inplace=True) "
   ]
  },
  {
   "cell_type": "code",
   "execution_count": 14,
   "id": "8351c372",
   "metadata": {},
   "outputs": [
    {
     "data": {
      "text/plain": [
       "array([1993, 2011, 2004, 2001, 2008, 1995, 1980, 2014, 1998, 2005, 1910,\n",
       "       2016, 2007, 2009, 2002, 2018, 1997, 1990, 2017, 1981, 2003, 1994,\n",
       "       1991, 1984, 2006, 1999, 2012, 2010, 2000, 1992, 2013, 1996, 1985,\n",
       "       1989, 2015, 1982, 1976, 1983, 1973, 1111, 1969, 1971, 1987, 1986,\n",
       "       1988, 1970, 1965, 1945, 1925, 1974, 1979, 1955, 1978, 1972, 1968,\n",
       "       1977, 1961, 1960, 1966, 1975, 1963, 1964, 5000, 1954, 1958, 1967,\n",
       "       1959, 9999, 1956, 3200, 1000, 1941, 8888, 1500, 2200, 4100, 1962,\n",
       "       1929, 1957, 1940, 3000, 2066, 1949, 2019, 1937, 1951, 1800, 1953,\n",
       "       1234, 8000, 5300, 9000, 2900, 6000, 5900, 5911, 1933, 1400, 1950,\n",
       "       4000, 1948, 1952, 1200, 8500, 1932, 1255, 3700, 3800, 4800, 1942,\n",
       "       7000, 1935, 1936, 6500, 1923, 2290, 2500, 1930, 1001, 9450, 1944,\n",
       "       1943, 1934, 1938, 1688, 2800, 1253, 1928, 1919, 5555, 5600, 1600,\n",
       "       2222, 1039, 9996, 1300, 8455, 1931, 1915, 4500, 1920, 1602, 7800,\n",
       "       9229, 1947, 1927, 7100, 8200, 1946, 7500, 3500], dtype=int64)"
      ]
     },
     "execution_count": 14,
     "metadata": {},
     "output_type": "execute_result"
    }
   ],
   "source": [
    "data['RegistrationYear'].unique()"
   ]
  },
  {
   "cell_type": "markdown",
   "id": "50432db7",
   "metadata": {},
   "source": [
    "Среди значений столбца о регистрации автомобиля, есть аномальные значения. Проверю количество аномальных значений по отношению ко всему датасету, если оно небольшое, то произведу удаление аномальных значений. Если аномальных значений большое количество, то я заменю на другое значение.\n"
   ]
  },
  {
   "cell_type": "code",
   "execution_count": 15,
   "id": "e0a3f2f9",
   "metadata": {},
   "outputs": [
    {
     "data": {
      "text/plain": [
       "array([1993, 2011, 2004, 2001, 2008, 1995, 1980, 2014, 1998, 2005, 2016,\n",
       "       2007, 2009, 2002, 1997, 1990, 1981, 2003, 1994, 1991, 1984, 2006,\n",
       "       1999, 2012, 2010, 2000, 1992, 2013, 1996, 1985, 1989, 2015, 1982,\n",
       "       1976, 1983, 1973, 1969, 1971, 1987, 1986, 1988, 1970, 1965, 1974,\n",
       "       1979, 1955, 1978, 1972, 1968, 1977, 1961, 1960, 1966, 1975, 1963,\n",
       "       1964, 1954, 1958, 1967, 1959, 1956, 1962, 1957, 1951, 1953, 1950,\n",
       "       1952], dtype=int64)"
      ]
     },
     "execution_count": 15,
     "metadata": {},
     "output_type": "execute_result"
    }
   ],
   "source": [
    "data = data.query('RegistrationYear >= 1950 & RegistrationYear < 2017')\n",
    "data['RegistrationYear'].unique()"
   ]
  },
  {
   "cell_type": "code",
   "execution_count": 16,
   "id": "48ee3e58",
   "metadata": {},
   "outputs": [
    {
     "name": "stdout",
     "output_type": "stream",
     "text": [
      "Число аномально высоких значений в признаке \"Power\": 418\n"
     ]
    }
   ],
   "source": [
    "print('Число аномально высоких значений в признаке \"Power\":', len(data[data['Power'] > 500]))\n",
    "data = data[data['Power'] < 500]"
   ]
  },
  {
   "cell_type": "code",
   "execution_count": 17,
   "id": "2d0f25dc",
   "metadata": {},
   "outputs": [],
   "source": [
    "data.loc[data['Power'] < 5, 'Power'] = float('nan')\n",
    "data['Power'] = data['Power'].fillna(data.groupby([\"Brand\", \"Model\"])['Power'].transform(\"median\"))\n",
    "unknown =  data['Power'].mean()\n",
    "data['Power'] = data['Power'].fillna(unknown)\n",
    "data['Power'] = data['Power'].astype('int64')"
   ]
  },
  {
   "cell_type": "code",
   "execution_count": 18,
   "id": "20dbd5c8",
   "metadata": {},
   "outputs": [],
   "source": [
    "data = data.query('Price > 100')"
   ]
  },
  {
   "cell_type": "code",
   "execution_count": null,
   "id": "44d6487e",
   "metadata": {},
   "outputs": [],
   "source": [
    "#data['Price'].min()"
   ]
  },
  {
   "cell_type": "code",
   "execution_count": null,
   "id": "91f105a8",
   "metadata": {},
   "outputs": [],
   "source": [
    "#data['Power'].max()"
   ]
  },
  {
   "cell_type": "code",
   "execution_count": null,
   "id": "973a72d7",
   "metadata": {},
   "outputs": [],
   "source": [
    "#data['Power'].min()"
   ]
  },
  {
   "cell_type": "markdown",
   "id": "39e10af7",
   "metadata": {},
   "source": [
    "Были удалены аномалии в значениях мощности и стоимости. В значениях мощности удалены значеyия более 500 л.с. Значения мощности, менее 5 л.с. были заменены на медианну по модели и бренду. Также удалены аномалии в таргете(менее 100 евро)\n"
   ]
  },
  {
   "cell_type": "markdown",
   "id": "557ec0a9",
   "metadata": {},
   "source": [
    "# 1.3 Исследовательский анализ категориальных признаков"
   ]
  },
  {
   "cell_type": "code",
   "execution_count": 19,
   "id": "a537ebab",
   "metadata": {},
   "outputs": [
    {
     "data": {
      "text/plain": [
       "Text(0, 0.5, 'Стоимость автомобиля')"
      ]
     },
     "execution_count": 19,
     "metadata": {},
     "output_type": "execute_result"
    },
    {
     "data": {
      "image/png": "[encoded data removed]",
      "text/plain": [
       "<Figure size 1100x700 with 1 Axes>"
      ]
     },
     "metadata": {},
     "output_type": "display_data"
    }
   ],
   "source": [
    "data.groupby('VehicleType')['Price'].mean().plot(kind='bar', figsize=(11, 7), color='#73A9AD')\n",
    "plt.title('Распределение средней стоимости автомобиля по типу автомобильного кузова')\n",
    "plt.xlabel('Тип автомобильного кузова')\n",
    "plt.ylabel('Стоимость автомобиля')"
   ]
  },
  {
   "cell_type": "markdown",
   "id": "5c391b30",
   "metadata": {},
   "source": [
    "Наибольшая стоимость автомобиля с автомобильным кузовом \"suv\", 'convertible'. Наименьшая стоимость автомобиля с автомобильным кузовом \"small\", а также с типом кузова значения, которого пропущено(не указано собственником)\n"
   ]
  },
  {
   "cell_type": "code",
   "execution_count": 20,
   "id": "aa8ab3ba",
   "metadata": {},
   "outputs": [
    {
     "data": {
      "text/plain": [
       "Text(0, 0.5, 'Стоимость автомобиля')"
      ]
     },
     "execution_count": 20,
     "metadata": {},
     "output_type": "execute_result"
    },
    {
     "data": {
      "image/png": "[encoded data removed]",
      "text/plain": [
       "<Figure size 1100x700 with 1 Axes>"
      ]
     },
     "metadata": {},
     "output_type": "display_data"
    }
   ],
   "source": [
    "data.groupby('Gearbox')['Price'].mean().plot(kind='bar', figsize=(11, 7), color='#73A9AD')\n",
    "plt.title('Распределение средней стоимости автомобиля по типу коробки передач автомобиля')\n",
    "plt.xlabel('Тип коробки передач')\n",
    "plt.ylabel('Стоимость автомобиля')"
   ]
  },
  {
   "cell_type": "markdown",
   "id": "558a3163",
   "metadata": {},
   "source": [
    "Наибольшая стоимость автомобиля с типом коробки передач \"auto\". Наименьшая стоимость автомобиля с типом кузова \"manual\", а также с типом коробки передач значения, которого пропущено(не указано собственником)\n"
   ]
  },
  {
   "cell_type": "code",
   "execution_count": 21,
   "id": "354bcbc0",
   "metadata": {},
   "outputs": [
    {
     "data": {
      "text/plain": [
       "Text(0, 0.5, 'Стоимость автомобиля')"
      ]
     },
     "execution_count": 21,
     "metadata": {},
     "output_type": "execute_result"
    },
    {
     "data": {
      "image/png": "[encoded data removed]",
      "text/plain": [
       "<Figure size 2000x700 with 1 Axes>"
      ]
     },
     "metadata": {},
     "output_type": "display_data"
    }
   ],
   "source": [
    "data.groupby('FuelType')['Price'].mean().plot(kind='bar',figsize=(20, 7), color='#73A9AD')\n",
    "plt.title('Распределение средней стоимости автомобиля по типу топлива автомобиля')\n",
    "plt.xlabel('Тип топлива')\n",
    "plt.ylabel('Стоимость автомобиля')"
   ]
  },
  {
   "cell_type": "markdown",
   "id": "e4b3c8ea",
   "metadata": {},
   "source": [
    "Наибольшая стоимость автомобиля с типом топлива \"hybrid\", \"gasoline\". Наименьшая стоимость автомобиля с типом кузова \"other\", а также с типом топлива значения, которого пропущено(не указано собственником)\n"
   ]
  },
  {
   "cell_type": "code",
   "execution_count": 22,
   "id": "c029fac9",
   "metadata": {},
   "outputs": [
    {
     "data": {
      "text/plain": [
       "Text(0, 0.5, 'Стоимость автомобиля')"
      ]
     },
     "execution_count": 22,
     "metadata": {},
     "output_type": "execute_result"
    },
    {
     "data": {
      "image/png": "[encoded data removed]",
      "text/plain": [
       "<Figure size 2000x700 with 1 Axes>"
      ]
     },
     "metadata": {},
     "output_type": "display_data"
    }
   ],
   "source": [
    "data.groupby('Brand')['Price'].mean().plot(kind='bar',figsize=(20, 7), color='#73A9AD')\n",
    "plt.title('Распределение средней стоимости автомобиля по бренду автомобиля')\n",
    "plt.xlabel('Бренд')\n",
    "plt.ylabel('Стоимость автомобиля')"
   ]
  },
  {
   "cell_type": "markdown",
   "id": "e496c538",
   "metadata": {},
   "source": [
    "Наибольшая стоимость автомобиля с брендом \"porsche\", 'mini', 'mercedes_benz'. Наименьшая стоимость автомобиля с брендом \"rover\", 'trabant','daewoo'."
   ]
  },
  {
   "cell_type": "markdown",
   "id": "adb0b484",
   "metadata": {},
   "source": [
    "Исходя из анализа данных о типе автомобильного кузова, бренда автомобиля, типа топлива, типа коробки передач со средней стоимостью автомобиля. Наибольшая средняя стоимость автомобиля с типом кузова 'suv', 'convertable', типом топлива 'hybrid', 'electric', с автоматической коробкой передач, брендом автомомбиля 'mercedes-benz', 'porche', 'land rover'. Наименьшая стоимость автомобиля с маленьким типом кузова, с типом топлива 'other', 'lpg', 'unknown'(пропуски), с ручной коробкой передач, с брендом 'rover', 'daewoo', 'trabant'\n"
   ]
  },
  {
   "cell_type": "markdown",
   "id": "2f2f8a19",
   "metadata": {},
   "source": [
    "# 1.3 Исследовательский анализ количественных признаков"
   ]
  },
  {
   "cell_type": "code",
   "execution_count": 23,
   "id": "013b6f32",
   "metadata": {},
   "outputs": [
    {
     "data": {
      "image/png": "[encoded data removed]",
      "text/plain": [
       "<Figure size 1500x2000 with 4 Axes>"
      ]
     },
     "metadata": {},
     "output_type": "display_data"
    }
   ],
   "source": [
    "data.hist(figsize=(15, 20), bins=30)\n",
    "plt.show()"
   ]
  },
  {
   "cell_type": "markdown",
   "id": "24df40b8",
   "metadata": {},
   "source": [
    "Исходя из данных графиков, наибольшее количество автомобилей со стоимостью до 2500 евро,с годом регистрации с 2000 до 2010, с мощностью от 50 до 180 л.с. и пробегом выше 140 000."
   ]
  },
  {
   "cell_type": "code",
   "execution_count": 24,
   "id": "81eacb30",
   "metadata": {},
   "outputs": [
    {
     "data": {
      "text/plain": [
       "<AxesSubplot:>"
      ]
     },
     "execution_count": 24,
     "metadata": {},
     "output_type": "execute_result"
    },
    {
     "data": {
      "image/png": "[encoded data removed]",
      "text/plain": [
       "<Figure size 1000x500 with 1 Axes>"
      ]
     },
     "metadata": {},
     "output_type": "display_data"
    }
   ],
   "source": [
    "data.boxplot('Price', figsize=(10,5))"
   ]
  },
  {
   "cell_type": "code",
   "execution_count": 25,
   "id": "7af98f70",
   "metadata": {},
   "outputs": [
    {
     "data": {
      "text/plain": [
       "<AxesSubplot:>"
      ]
     },
     "execution_count": 25,
     "metadata": {},
     "output_type": "execute_result"
    },
    {
     "data": {
      "image/png": "[encoded data removed]",
      "text/plain": [
       "<Figure size 500x1000 with 1 Axes>"
      ]
     },
     "metadata": {},
     "output_type": "display_data"
    }
   ],
   "source": [
    "data.boxplot('Power', figsize=(5,10))"
   ]
  },
  {
   "cell_type": "code",
   "execution_count": 26,
   "id": "647a56ec",
   "metadata": {},
   "outputs": [
    {
     "data": {
      "text/plain": [
       "<AxesSubplot:>"
      ]
     },
     "execution_count": 26,
     "metadata": {},
     "output_type": "execute_result"
    },
    {
     "data": {
      "image/png": "[encoded data removed]",
      "text/plain": [
       "<Figure size 1000x500 with 1 Axes>"
      ]
     },
     "metadata": {},
     "output_type": "display_data"
    }
   ],
   "source": [
    "data.boxplot('Kilometer', figsize=(10,5))"
   ]
  },
  {
   "cell_type": "code",
   "execution_count": 27,
   "id": "5ce32207",
   "metadata": {},
   "outputs": [],
   "source": [
    "#приведение наименований столбцов к нижнему регистру\n",
    "data.columns = map(str.lower, data.columns)"
   ]
  },
  {
   "cell_type": "code",
   "execution_count": 28,
   "id": "522e9ce7",
   "metadata": {},
   "outputs": [
    {
     "name": "stdout",
     "output_type": "stream",
     "text": [
      "interval columns not set, guessing: ['price', 'registrationyear', 'power', 'kilometer']\n"
     ]
    },
    {
     "data": {
      "text/html": [
       "<style type=\"text/css\">\n",
       "#T_8c5bc_row0_col0, #T_8c5bc_row1_col1, #T_8c5bc_row2_col2, #T_8c5bc_row3_col3, #T_8c5bc_row4_col4, #T_8c5bc_row5_col5, #T_8c5bc_row5_col8, #T_8c5bc_row6_col6, #T_8c5bc_row7_col7, #T_8c5bc_row8_col5, #T_8c5bc_row8_col8, #T_8c5bc_row9_col9 {\n",
       "  background-color: #023858;\n",
       "  color: #f1f1f1;\n",
       "}\n",
       "#T_8c5bc_row0_col1, #T_8c5bc_row3_col0, #T_8c5bc_row9_col4 {\n",
       "  background-color: #f8f1f8;\n",
       "  color: #000000;\n",
       "}\n",
       "#T_8c5bc_row0_col2 {\n",
       "  background-color: #4897c4;\n",
       "  color: #f1f1f1;\n",
       "}\n",
       "#T_8c5bc_row0_col3 {\n",
       "  background-color: #cdd0e5;\n",
       "  color: #000000;\n",
       "}\n",
       "#T_8c5bc_row0_col4 {\n",
       "  background-color: #80aed2;\n",
       "  color: #f1f1f1;\n",
       "}\n",
       "#T_8c5bc_row0_col5 {\n",
       "  background-color: #a1bbda;\n",
       "  color: #000000;\n",
       "}\n",
       "#T_8c5bc_row0_col6, #T_8c5bc_row4_col1 {\n",
       "  background-color: #c8cde4;\n",
       "  color: #000000;\n",
       "}\n",
       "#T_8c5bc_row0_col7, #T_8c5bc_row2_col7 {\n",
       "  background-color: #eae6f1;\n",
       "  color: #000000;\n",
       "}\n",
       "#T_8c5bc_row0_col8 {\n",
       "  background-color: #ced0e6;\n",
       "  color: #000000;\n",
       "}\n",
       "#T_8c5bc_row0_col9 {\n",
       "  background-color: #d0d1e6;\n",
       "  color: #000000;\n",
       "}\n",
       "#T_8c5bc_row1_col0 {\n",
       "  background-color: #fcf4fa;\n",
       "  color: #000000;\n",
       "}\n",
       "#T_8c5bc_row1_col2 {\n",
       "  background-color: #e7e3f0;\n",
       "  color: #000000;\n",
       "}\n",
       "#T_8c5bc_row1_col3 {\n",
       "  background-color: #7eadd1;\n",
       "  color: #f1f1f1;\n",
       "}\n",
       "#T_8c5bc_row1_col4 {\n",
       "  background-color: #9ab8d8;\n",
       "  color: #000000;\n",
       "}\n",
       "#T_8c5bc_row1_col5 {\n",
       "  background-color: #045e93;\n",
       "  color: #f1f1f1;\n",
       "}\n",
       "#T_8c5bc_row1_col6 {\n",
       "  background-color: #dbdaeb;\n",
       "  color: #000000;\n",
       "}\n",
       "#T_8c5bc_row1_col7 {\n",
       "  background-color: #bcc7e1;\n",
       "  color: #000000;\n",
       "}\n",
       "#T_8c5bc_row1_col8 {\n",
       "  background-color: #6ba5cd;\n",
       "  color: #f1f1f1;\n",
       "}\n",
       "#T_8c5bc_row1_col9 {\n",
       "  background-color: #b7c5df;\n",
       "  color: #000000;\n",
       "}\n",
       "#T_8c5bc_row2_col0, #T_8c5bc_row4_col8 {\n",
       "  background-color: #6da6cd;\n",
       "  color: #f1f1f1;\n",
       "}\n",
       "#T_8c5bc_row2_col1 {\n",
       "  background-color: #fbf4f9;\n",
       "  color: #000000;\n",
       "}\n",
       "#T_8c5bc_row2_col3, #T_8c5bc_row9_col2 {\n",
       "  background-color: #f2ecf5;\n",
       "  color: #000000;\n",
       "}\n",
       "#T_8c5bc_row2_col4, #T_8c5bc_row7_col8, #T_8c5bc_row9_col1 {\n",
       "  background-color: #d7d6e9;\n",
       "  color: #000000;\n",
       "}\n",
       "#T_8c5bc_row2_col5 {\n",
       "  background-color: #89b1d4;\n",
       "  color: #000000;\n",
       "}\n",
       "#T_8c5bc_row2_col6 {\n",
       "  background-color: #b3c3de;\n",
       "  color: #000000;\n",
       "}\n",
       "#T_8c5bc_row2_col8 {\n",
       "  background-color: #c5cce3;\n",
       "  color: #000000;\n",
       "}\n",
       "#T_8c5bc_row2_col9 {\n",
       "  background-color: #f1ebf5;\n",
       "  color: #000000;\n",
       "}\n",
       "#T_8c5bc_row3_col1, #T_8c5bc_row4_col0 {\n",
       "  background-color: #b1c2de;\n",
       "  color: #000000;\n",
       "}\n",
       "#T_8c5bc_row3_col2, #T_8c5bc_row3_col6, #T_8c5bc_row4_col9, #T_8c5bc_row6_col1, #T_8c5bc_row6_col3, #T_8c5bc_row6_col4, #T_8c5bc_row6_col7, #T_8c5bc_row7_col0, #T_8c5bc_row9_col5, #T_8c5bc_row9_col8 {\n",
       "  background-color: #fff7fb;\n",
       "  color: #000000;\n",
       "}\n",
       "#T_8c5bc_row3_col4, #T_8c5bc_row5_col0 {\n",
       "  background-color: #96b6d7;\n",
       "  color: #000000;\n",
       "}\n",
       "#T_8c5bc_row3_col5 {\n",
       "  background-color: #83afd3;\n",
       "  color: #f1f1f1;\n",
       "}\n",
       "#T_8c5bc_row3_col7, #T_8c5bc_row5_col9, #T_8c5bc_row6_col5 {\n",
       "  background-color: #dcdaeb;\n",
       "  color: #000000;\n",
       "}\n",
       "#T_8c5bc_row3_col8, #T_8c5bc_row4_col3 {\n",
       "  background-color: #8fb4d6;\n",
       "  color: #000000;\n",
       "}\n",
       "#T_8c5bc_row3_col9 {\n",
       "  background-color: #b0c2de;\n",
       "  color: #000000;\n",
       "}\n",
       "#T_8c5bc_row4_col2 {\n",
       "  background-color: #e0deed;\n",
       "  color: #000000;\n",
       "}\n",
       "#T_8c5bc_row4_col5 {\n",
       "  background-color: #187cb6;\n",
       "  color: #f1f1f1;\n",
       "}\n",
       "#T_8c5bc_row4_col6 {\n",
       "  background-color: #faf3f9;\n",
       "  color: #000000;\n",
       "}\n",
       "#T_8c5bc_row4_col7 {\n",
       "  background-color: #efe9f3;\n",
       "  color: #000000;\n",
       "}\n",
       "#T_8c5bc_row5_col1 {\n",
       "  background-color: #045b8f;\n",
       "  color: #f1f1f1;\n",
       "}\n",
       "#T_8c5bc_row5_col2 {\n",
       "  background-color: #5a9ec9;\n",
       "  color: #f1f1f1;\n",
       "}\n",
       "#T_8c5bc_row5_col3 {\n",
       "  background-color: #4094c3;\n",
       "  color: #f1f1f1;\n",
       "}\n",
       "#T_8c5bc_row5_col4 {\n",
       "  background-color: #056caa;\n",
       "  color: #f1f1f1;\n",
       "}\n",
       "#T_8c5bc_row5_col6 {\n",
       "  background-color: #99b8d8;\n",
       "  color: #000000;\n",
       "}\n",
       "#T_8c5bc_row5_col7 {\n",
       "  background-color: #81aed2;\n",
       "  color: #f1f1f1;\n",
       "}\n",
       "#T_8c5bc_row6_col0 {\n",
       "  background-color: #f5eff6;\n",
       "  color: #000000;\n",
       "}\n",
       "#T_8c5bc_row6_col2, #T_8c5bc_row7_col3 {\n",
       "  background-color: #c6cce3;\n",
       "  color: #000000;\n",
       "}\n",
       "#T_8c5bc_row6_col8, #T_8c5bc_row7_col2 {\n",
       "  background-color: #e6e2ef;\n",
       "  color: #000000;\n",
       "}\n",
       "#T_8c5bc_row6_col9 {\n",
       "  background-color: #eee9f3;\n",
       "  color: #000000;\n",
       "}\n",
       "#T_8c5bc_row7_col1 {\n",
       "  background-color: #d6d6e9;\n",
       "  color: #000000;\n",
       "}\n",
       "#T_8c5bc_row7_col4 {\n",
       "  background-color: #e1dfed;\n",
       "  color: #000000;\n",
       "}\n",
       "#T_8c5bc_row7_col5 {\n",
       "  background-color: #acc0dd;\n",
       "  color: #000000;\n",
       "}\n",
       "#T_8c5bc_row7_col6 {\n",
       "  background-color: #f0eaf4;\n",
       "  color: #000000;\n",
       "}\n",
       "#T_8c5bc_row7_col9 {\n",
       "  background-color: #e9e5f1;\n",
       "  color: #000000;\n",
       "}\n",
       "#T_8c5bc_row8_col0 {\n",
       "  background-color: #ebe6f2;\n",
       "  color: #000000;\n",
       "}\n",
       "#T_8c5bc_row8_col1 {\n",
       "  background-color: #88b1d4;\n",
       "  color: #000000;\n",
       "}\n",
       "#T_8c5bc_row8_col2 {\n",
       "  background-color: #c2cbe2;\n",
       "  color: #000000;\n",
       "}\n",
       "#T_8c5bc_row8_col3 {\n",
       "  background-color: #79abd0;\n",
       "  color: #f1f1f1;\n",
       "}\n",
       "#T_8c5bc_row8_col4 {\n",
       "  background-color: #5ea0ca;\n",
       "  color: #f1f1f1;\n",
       "}\n",
       "#T_8c5bc_row8_col6 {\n",
       "  background-color: #d4d4e8;\n",
       "  color: #000000;\n",
       "}\n",
       "#T_8c5bc_row8_col7 {\n",
       "  background-color: #d9d8ea;\n",
       "  color: #000000;\n",
       "}\n",
       "#T_8c5bc_row8_col9 {\n",
       "  background-color: #fdf5fa;\n",
       "  color: #000000;\n",
       "}\n",
       "#T_8c5bc_row9_col0, #T_8c5bc_row9_col7 {\n",
       "  background-color: #eee8f3;\n",
       "  color: #000000;\n",
       "}\n",
       "#T_8c5bc_row9_col3 {\n",
       "  background-color: #9ebad9;\n",
       "  color: #000000;\n",
       "}\n",
       "#T_8c5bc_row9_col6 {\n",
       "  background-color: #e0dded;\n",
       "  color: #000000;\n",
       "}\n",
       "</style>\n",
       "<table id=\"T_8c5bc\">\n",
       "  <thead>\n",
       "    <tr>\n",
       "      <th class=\"blank level0\" >&nbsp;</th>\n",
       "      <th id=\"T_8c5bc_level0_col0\" class=\"col_heading level0 col0\" >price</th>\n",
       "      <th id=\"T_8c5bc_level0_col1\" class=\"col_heading level0 col1\" >vehicletype</th>\n",
       "      <th id=\"T_8c5bc_level0_col2\" class=\"col_heading level0 col2\" >registrationyear</th>\n",
       "      <th id=\"T_8c5bc_level0_col3\" class=\"col_heading level0 col3\" >gearbox</th>\n",
       "      <th id=\"T_8c5bc_level0_col4\" class=\"col_heading level0 col4\" >power</th>\n",
       "      <th id=\"T_8c5bc_level0_col5\" class=\"col_heading level0 col5\" >model</th>\n",
       "      <th id=\"T_8c5bc_level0_col6\" class=\"col_heading level0 col6\" >kilometer</th>\n",
       "      <th id=\"T_8c5bc_level0_col7\" class=\"col_heading level0 col7\" >fueltype</th>\n",
       "      <th id=\"T_8c5bc_level0_col8\" class=\"col_heading level0 col8\" >brand</th>\n",
       "      <th id=\"T_8c5bc_level0_col9\" class=\"col_heading level0 col9\" >repaired</th>\n",
       "    </tr>\n",
       "  </thead>\n",
       "  <tbody>\n",
       "    <tr>\n",
       "      <th id=\"T_8c5bc_level0_row0\" class=\"row_heading level0 row0\" >price</th>\n",
       "      <td id=\"T_8c5bc_row0_col0\" class=\"data row0 col0\" >1.000000</td>\n",
       "      <td id=\"T_8c5bc_row0_col1\" class=\"data row0 col1\" >0.281827</td>\n",
       "      <td id=\"T_8c5bc_row0_col2\" class=\"data row0 col2\" >0.643606</td>\n",
       "      <td id=\"T_8c5bc_row0_col3\" class=\"data row0 col3\" >0.299482</td>\n",
       "      <td id=\"T_8c5bc_row0_col4\" class=\"data row0 col4\" >0.516616</td>\n",
       "      <td id=\"T_8c5bc_row0_col5\" class=\"data row0 col5\" >0.573301</td>\n",
       "      <td id=\"T_8c5bc_row0_col6\" class=\"data row0 col6\" >0.314921</td>\n",
       "      <td id=\"T_8c5bc_row0_col7\" class=\"data row0 col7\" >0.267071</td>\n",
       "      <td id=\"T_8c5bc_row0_col8\" class=\"data row0 col8\" >0.363040</td>\n",
       "      <td id=\"T_8c5bc_row0_col9\" class=\"data row0 col9\" >0.350994</td>\n",
       "    </tr>\n",
       "    <tr>\n",
       "      <th id=\"T_8c5bc_level0_row1\" class=\"row_heading level0 row1\" >vehicletype</th>\n",
       "      <td id=\"T_8c5bc_row1_col0\" class=\"data row1 col0\" >0.281827</td>\n",
       "      <td id=\"T_8c5bc_row1_col1\" class=\"data row1 col1\" >1.000000</td>\n",
       "      <td id=\"T_8c5bc_row1_col2\" class=\"data row1 col2\" >0.263508</td>\n",
       "      <td id=\"T_8c5bc_row1_col3\" class=\"data row1 col3\" >0.503434</td>\n",
       "      <td id=\"T_8c5bc_row1_col4\" class=\"data row1 col4\" >0.454620</td>\n",
       "      <td id=\"T_8c5bc_row1_col5\" class=\"data row1 col5\" >0.897598</td>\n",
       "      <td id=\"T_8c5bc_row1_col6\" class=\"data row1 col6\" >0.245724</td>\n",
       "      <td id=\"T_8c5bc_row1_col7\" class=\"data row1 col7\" >0.415532</td>\n",
       "      <td id=\"T_8c5bc_row1_col8\" class=\"data row1 col8\" >0.587324</td>\n",
       "      <td id=\"T_8c5bc_row1_col9\" class=\"data row1 col9\" >0.412386</td>\n",
       "    </tr>\n",
       "    <tr>\n",
       "      <th id=\"T_8c5bc_level0_row2\" class=\"row_heading level0 row2\" >registrationyear</th>\n",
       "      <td id=\"T_8c5bc_row2_col0\" class=\"data row2 col0\" >0.643606</td>\n",
       "      <td id=\"T_8c5bc_row2_col1\" class=\"data row2 col1\" >0.263508</td>\n",
       "      <td id=\"T_8c5bc_row2_col2\" class=\"data row2 col2\" >1.000000</td>\n",
       "      <td id=\"T_8c5bc_row2_col3\" class=\"data row2 col3\" >0.134984</td>\n",
       "      <td id=\"T_8c5bc_row2_col4\" class=\"data row2 col4\" >0.288329</td>\n",
       "      <td id=\"T_8c5bc_row2_col5\" class=\"data row2 col5\" >0.613470</td>\n",
       "      <td id=\"T_8c5bc_row2_col6\" class=\"data row2 col6\" >0.375640</td>\n",
       "      <td id=\"T_8c5bc_row2_col7\" class=\"data row2 col7\" >0.268276</td>\n",
       "      <td id=\"T_8c5bc_row2_col8\" class=\"data row2 col8\" >0.385909</td>\n",
       "      <td id=\"T_8c5bc_row2_col9\" class=\"data row2 col9\" >0.210741</td>\n",
       "    </tr>\n",
       "    <tr>\n",
       "      <th id=\"T_8c5bc_level0_row3\" class=\"row_heading level0 row3\" >gearbox</th>\n",
       "      <td id=\"T_8c5bc_row3_col0\" class=\"data row3 col0\" >0.299482</td>\n",
       "      <td id=\"T_8c5bc_row3_col1\" class=\"data row3 col1\" >0.503434</td>\n",
       "      <td id=\"T_8c5bc_row3_col2\" class=\"data row3 col2\" >0.134984</td>\n",
       "      <td id=\"T_8c5bc_row3_col3\" class=\"data row3 col3\" >1.000000</td>\n",
       "      <td id=\"T_8c5bc_row3_col4\" class=\"data row3 col4\" >0.464533</td>\n",
       "      <td id=\"T_8c5bc_row3_col5\" class=\"data row3 col5\" >0.624448</td>\n",
       "      <td id=\"T_8c5bc_row3_col6\" class=\"data row3 col6\" >0.055887</td>\n",
       "      <td id=\"T_8c5bc_row3_col7\" class=\"data row3 col7\" >0.319878</td>\n",
       "      <td id=\"T_8c5bc_row3_col8\" class=\"data row3 col8\" >0.513654</td>\n",
       "      <td id=\"T_8c5bc_row3_col9\" class=\"data row3 col9\" >0.431023</td>\n",
       "    </tr>\n",
       "    <tr>\n",
       "      <th id=\"T_8c5bc_level0_row4\" class=\"row_heading level0 row4\" >power</th>\n",
       "      <td id=\"T_8c5bc_row4_col0\" class=\"data row4 col0\" >0.516616</td>\n",
       "      <td id=\"T_8c5bc_row4_col1\" class=\"data row4 col1\" >0.454620</td>\n",
       "      <td id=\"T_8c5bc_row4_col2\" class=\"data row4 col2\" >0.288329</td>\n",
       "      <td id=\"T_8c5bc_row4_col3\" class=\"data row4 col3\" >0.464533</td>\n",
       "      <td id=\"T_8c5bc_row4_col4\" class=\"data row4 col4\" >1.000000</td>\n",
       "      <td id=\"T_8c5bc_row4_col5\" class=\"data row4 col5\" >0.790547</td>\n",
       "      <td id=\"T_8c5bc_row4_col6\" class=\"data row4 col6\" >0.085956</td>\n",
       "      <td id=\"T_8c5bc_row4_col7\" class=\"data row4 col7\" >0.243216</td>\n",
       "      <td id=\"T_8c5bc_row4_col8\" class=\"data row4 col8\" >0.582611</td>\n",
       "      <td id=\"T_8c5bc_row4_col9\" class=\"data row4 col9\" >0.130362</td>\n",
       "    </tr>\n",
       "    <tr>\n",
       "      <th id=\"T_8c5bc_level0_row5\" class=\"row_heading level0 row5\" >model</th>\n",
       "      <td id=\"T_8c5bc_row5_col0\" class=\"data row5 col0\" >0.573301</td>\n",
       "      <td id=\"T_8c5bc_row5_col1\" class=\"data row5 col1\" >0.897598</td>\n",
       "      <td id=\"T_8c5bc_row5_col2\" class=\"data row5 col2\" >0.613470</td>\n",
       "      <td id=\"T_8c5bc_row5_col3\" class=\"data row5 col3\" >0.624448</td>\n",
       "      <td id=\"T_8c5bc_row5_col4\" class=\"data row5 col4\" >0.790547</td>\n",
       "      <td id=\"T_8c5bc_row5_col5\" class=\"data row5 col5\" >1.000000</td>\n",
       "      <td id=\"T_8c5bc_row5_col6\" class=\"data row5 col6\" >0.440353</td>\n",
       "      <td id=\"T_8c5bc_row5_col7\" class=\"data row5 col7\" >0.550049</td>\n",
       "      <td id=\"T_8c5bc_row5_col8\" class=\"data row5 col8\" >0.997854</td>\n",
       "      <td id=\"T_8c5bc_row5_col9\" class=\"data row5 col9\" >0.301279</td>\n",
       "    </tr>\n",
       "    <tr>\n",
       "      <th id=\"T_8c5bc_level0_row6\" class=\"row_heading level0 row6\" >kilometer</th>\n",
       "      <td id=\"T_8c5bc_row6_col0\" class=\"data row6 col0\" >0.314921</td>\n",
       "      <td id=\"T_8c5bc_row6_col1\" class=\"data row6 col1\" >0.245724</td>\n",
       "      <td id=\"T_8c5bc_row6_col2\" class=\"data row6 col2\" >0.375640</td>\n",
       "      <td id=\"T_8c5bc_row6_col3\" class=\"data row6 col3\" >0.055887</td>\n",
       "      <td id=\"T_8c5bc_row6_col4\" class=\"data row6 col4\" >0.085956</td>\n",
       "      <td id=\"T_8c5bc_row6_col5\" class=\"data row6 col5\" >0.440353</td>\n",
       "      <td id=\"T_8c5bc_row6_col6\" class=\"data row6 col6\" >1.000000</td>\n",
       "      <td id=\"T_8c5bc_row6_col7\" class=\"data row6 col7\" >0.153323</td>\n",
       "      <td id=\"T_8c5bc_row6_col8\" class=\"data row6 col8\" >0.275898</td>\n",
       "      <td id=\"T_8c5bc_row6_col9\" class=\"data row6 col9\" >0.226930</td>\n",
       "    </tr>\n",
       "    <tr>\n",
       "      <th id=\"T_8c5bc_level0_row7\" class=\"row_heading level0 row7\" >fueltype</th>\n",
       "      <td id=\"T_8c5bc_row7_col0\" class=\"data row7 col0\" >0.267071</td>\n",
       "      <td id=\"T_8c5bc_row7_col1\" class=\"data row7 col1\" >0.415532</td>\n",
       "      <td id=\"T_8c5bc_row7_col2\" class=\"data row7 col2\" >0.268276</td>\n",
       "      <td id=\"T_8c5bc_row7_col3\" class=\"data row7 col3\" >0.319878</td>\n",
       "      <td id=\"T_8c5bc_row7_col4\" class=\"data row7 col4\" >0.243216</td>\n",
       "      <td id=\"T_8c5bc_row7_col5\" class=\"data row7 col5\" >0.550049</td>\n",
       "      <td id=\"T_8c5bc_row7_col6\" class=\"data row7 col6\" >0.153323</td>\n",
       "      <td id=\"T_8c5bc_row7_col7\" class=\"data row7 col7\" >1.000000</td>\n",
       "      <td id=\"T_8c5bc_row7_col8\" class=\"data row7 col8\" >0.332151</td>\n",
       "      <td id=\"T_8c5bc_row7_col9\" class=\"data row7 col9\" >0.249812</td>\n",
       "    </tr>\n",
       "    <tr>\n",
       "      <th id=\"T_8c5bc_level0_row8\" class=\"row_heading level0 row8\" >brand</th>\n",
       "      <td id=\"T_8c5bc_row8_col0\" class=\"data row8 col0\" >0.363040</td>\n",
       "      <td id=\"T_8c5bc_row8_col1\" class=\"data row8 col1\" >0.587324</td>\n",
       "      <td id=\"T_8c5bc_row8_col2\" class=\"data row8 col2\" >0.385909</td>\n",
       "      <td id=\"T_8c5bc_row8_col3\" class=\"data row8 col3\" >0.513654</td>\n",
       "      <td id=\"T_8c5bc_row8_col4\" class=\"data row8 col4\" >0.582611</td>\n",
       "      <td id=\"T_8c5bc_row8_col5\" class=\"data row8 col5\" >0.997854</td>\n",
       "      <td id=\"T_8c5bc_row8_col6\" class=\"data row8 col6\" >0.275898</td>\n",
       "      <td id=\"T_8c5bc_row8_col7\" class=\"data row8 col7\" >0.332151</td>\n",
       "      <td id=\"T_8c5bc_row8_col8\" class=\"data row8 col8\" >1.000000</td>\n",
       "      <td id=\"T_8c5bc_row8_col9\" class=\"data row8 col9\" >0.145098</td>\n",
       "    </tr>\n",
       "    <tr>\n",
       "      <th id=\"T_8c5bc_level0_row9\" class=\"row_heading level0 row9\" >repaired</th>\n",
       "      <td id=\"T_8c5bc_row9_col0\" class=\"data row9 col0\" >0.350994</td>\n",
       "      <td id=\"T_8c5bc_row9_col1\" class=\"data row9 col1\" >0.412386</td>\n",
       "      <td id=\"T_8c5bc_row9_col2\" class=\"data row9 col2\" >0.210741</td>\n",
       "      <td id=\"T_8c5bc_row9_col3\" class=\"data row9 col3\" >0.431023</td>\n",
       "      <td id=\"T_8c5bc_row9_col4\" class=\"data row9 col4\" >0.130362</td>\n",
       "      <td id=\"T_8c5bc_row9_col5\" class=\"data row9 col5\" >0.301279</td>\n",
       "      <td id=\"T_8c5bc_row9_col6\" class=\"data row9 col6\" >0.226930</td>\n",
       "      <td id=\"T_8c5bc_row9_col7\" class=\"data row9 col7\" >0.249812</td>\n",
       "      <td id=\"T_8c5bc_row9_col8\" class=\"data row9 col8\" >0.145098</td>\n",
       "      <td id=\"T_8c5bc_row9_col9\" class=\"data row9 col9\" >1.000000</td>\n",
       "    </tr>\n",
       "  </tbody>\n",
       "</table>\n"
      ],
      "text/plain": [
       "<pandas.io.formats.style.Styler at 0x23fd333c580>"
      ]
     },
     "execution_count": 28,
     "metadata": {},
     "output_type": "execute_result"
    }
   ],
   "source": [
    "data.phik_matrix().style.background_gradient(cmap='PuBu')"
   ]
  },
  {
   "cell_type": "markdown",
   "id": "97cfe093",
   "metadata": {},
   "source": [
    "Корреляция после обработки аномальных значений Наибольшая корреляция стоимости автомобиля с годом регистрации автомобиля(0.64) и моделью(0.57), мощностью 0.48. Наименьшая корреляция с 0.26 'fueltype' (тип топлива). Изменилась корреляция после удаления аномальных значений"
   ]
  },
  {
   "cell_type": "markdown",
   "id": "342e58c0",
   "metadata": {},
   "source": [
    "Исходя из данных графиков, наибольшее количество автомобилей со стоимостью до 2500 евро,с годом регистрации с 2000 до 2010, с мощностью от 50 до 180 л.с. и пробегом выше 140 000. Корреляция после обработки аномальных значений Наибольшая корреляция стоимости автомобиля с годом регистрации автомобиля(0.64) и моделью(0.57), мощностью 0.48. Наименьшая корреляция с 0.26 'fueltype' (тип топлива). Изменилась корреляция после удаления аномальных значений"
   ]
  },
  {
   "cell_type": "code",
   "execution_count": 29,
   "id": "a264d2ce",
   "metadata": {},
   "outputs": [],
   "source": [
    "cat_features = ['vehicletype', 'gearbox','model',\n",
    "       'fueltype', 'brand','repaired']\n",
    "for c in data[cat_features]:\n",
    "        data[c] = data[c].astype('category')"
   ]
  },
  {
   "cell_type": "code",
   "execution_count": 30,
   "id": "4773bc5d",
   "metadata": {},
   "outputs": [
    {
     "name": "stdout",
     "output_type": "stream",
     "text": [
      "<class 'pandas.core.frame.DataFrame'>\n",
      "Int64Index: 325792 entries, 0 to 354368\n",
      "Data columns (total 10 columns):\n",
      " #   Column            Non-Null Count   Dtype   \n",
      "---  ------            --------------   -----   \n",
      " 0   price             325792 non-null  int64   \n",
      " 1   vehicletype       325792 non-null  category\n",
      " 2   registrationyear  325792 non-null  int64   \n",
      " 3   gearbox           325792 non-null  category\n",
      " 4   power             325792 non-null  int64   \n",
      " 5   model             325792 non-null  category\n",
      " 6   kilometer         325792 non-null  int64   \n",
      " 7   fueltype          325792 non-null  category\n",
      " 8   brand             325792 non-null  category\n",
      " 9   repaired          325792 non-null  category\n",
      "dtypes: category(6), int64(4)\n",
      "memory usage: 14.6 MB\n"
     ]
    }
   ],
   "source": [
    "data.info()"
   ]
  },
  {
   "cell_type": "markdown",
   "id": "68c15b12",
   "metadata": {},
   "source": [
    "## 3.3. Предподготовка данных после деления на выборки"
   ]
  },
  {
   "cell_type": "code",
   "execution_count": 32,
   "id": "e2ef5ce1",
   "metadata": {},
   "outputs": [],
   "source": [
    "#деление на выборки датасета дата\n",
    "features = data.drop('price', axis=1)\n",
    "target = data.price"
   ]
  },
  {
   "cell_type": "code",
   "execution_count": 33,
   "id": "dfe19c16",
   "metadata": {},
   "outputs": [],
   "source": [
    "features_train, features_test, target_train, target_test = train_test_split(features,\n",
    "                                                                            target, \n",
    "                                                                            test_size=.25,\n",
    "                                                                            random_state=12345)"
   ]
  },
  {
   "cell_type": "code",
   "execution_count": 34,
   "id": "445eaf0d",
   "metadata": {},
   "outputs": [],
   "source": [
    "features_train_st = features_train.copy() \n",
    "features_test_st = features_test.copy()"
   ]
  },
  {
   "cell_type": "code",
   "execution_count": 36,
   "id": "110ca2f4",
   "metadata": {},
   "outputs": [
    {
     "data": {
      "text/html": [
       "<div>\n",
       "<style scoped>\n",
       "    .dataframe tbody tr th:only-of-type {\n",
       "        vertical-align: middle;\n",
       "    }\n",
       "\n",
       "    .dataframe tbody tr th {\n",
       "        vertical-align: top;\n",
       "    }\n",
       "\n",
       "    .dataframe thead th {\n",
       "        text-align: right;\n",
       "    }\n",
       "</style>\n",
       "<table border=\"1\" class=\"dataframe\">\n",
       "  <thead>\n",
       "    <tr style=\"text-align: right;\">\n",
       "      <th></th>\n",
       "      <th>vehicletype</th>\n",
       "      <th>registrationyear</th>\n",
       "      <th>gearbox</th>\n",
       "      <th>power</th>\n",
       "      <th>model</th>\n",
       "      <th>kilometer</th>\n",
       "      <th>fueltype</th>\n",
       "      <th>brand</th>\n",
       "      <th>repaired</th>\n",
       "    </tr>\n",
       "  </thead>\n",
       "  <tbody>\n",
       "    <tr>\n",
       "      <th>253075</th>\n",
       "      <td>wagon</td>\n",
       "      <td>0.199623</td>\n",
       "      <td>manual</td>\n",
       "      <td>-0.275648</td>\n",
       "      <td>astra</td>\n",
       "      <td>0.581300</td>\n",
       "      <td>petrol</td>\n",
       "      <td>opel</td>\n",
       "      <td>no</td>\n",
       "    </tr>\n",
       "    <tr>\n",
       "      <th>91649</th>\n",
       "      <td>small</td>\n",
       "      <td>0.050499</td>\n",
       "      <td>manual</td>\n",
       "      <td>-1.173943</td>\n",
       "      <td>unknown</td>\n",
       "      <td>0.581300</td>\n",
       "      <td>unknown</td>\n",
       "      <td>opel</td>\n",
       "      <td>unknown</td>\n",
       "    </tr>\n",
       "    <tr>\n",
       "      <th>41229</th>\n",
       "      <td>bus</td>\n",
       "      <td>0.199623</td>\n",
       "      <td>manual</td>\n",
       "      <td>-0.849027</td>\n",
       "      <td>combo</td>\n",
       "      <td>0.581300</td>\n",
       "      <td>gasoline</td>\n",
       "      <td>opel</td>\n",
       "      <td>no</td>\n",
       "    </tr>\n",
       "    <tr>\n",
       "      <th>235993</th>\n",
       "      <td>wagon</td>\n",
       "      <td>1.690859</td>\n",
       "      <td>manual</td>\n",
       "      <td>-0.332986</td>\n",
       "      <td>caddy</td>\n",
       "      <td>-2.382297</td>\n",
       "      <td>gasoline</td>\n",
       "      <td>volkswagen</td>\n",
       "      <td>no</td>\n",
       "    </tr>\n",
       "    <tr>\n",
       "      <th>100999</th>\n",
       "      <td>sedan</td>\n",
       "      <td>-0.545996</td>\n",
       "      <td>manual</td>\n",
       "      <td>-1.173943</td>\n",
       "      <td>micra</td>\n",
       "      <td>-0.092244</td>\n",
       "      <td>petrol</td>\n",
       "      <td>nissan</td>\n",
       "      <td>no</td>\n",
       "    </tr>\n",
       "  </tbody>\n",
       "</table>\n",
       "</div>"
      ],
      "text/plain": [
       "       vehicletype  registrationyear gearbox     power    model  kilometer  \\\n",
       "253075       wagon          0.199623  manual -0.275648    astra   0.581300   \n",
       "91649        small          0.050499  manual -1.173943  unknown   0.581300   \n",
       "41229          bus          0.199623  manual -0.849027    combo   0.581300   \n",
       "235993       wagon          1.690859  manual -0.332986    caddy  -2.382297   \n",
       "100999       sedan         -0.545996  manual -1.173943    micra  -0.092244   \n",
       "\n",
       "        fueltype       brand repaired  \n",
       "253075    petrol        opel       no  \n",
       "91649    unknown        opel  unknown  \n",
       "41229   gasoline        opel       no  \n",
       "235993  gasoline  volkswagen       no  \n",
       "100999    petrol      nissan       no  "
      ]
     },
     "execution_count": 36,
     "metadata": {},
     "output_type": "execute_result"
    }
   ],
   "source": [
    "numeric = ['registrationyear','power','kilometer']\n",
    "scaler = StandardScaler()\n",
    "scaler.fit(features_train_st[numeric])\n",
    "features_train_st[numeric] = scaler.transform(features_train_st[numeric])\n",
    "\n",
    "features_test_st[numeric]  = scaler.transform(features_test_st[numeric])\n",
    "\n",
    "pd.options.mode.chained_assignment = None\n",
    "\n",
    "features_train_st.head(5)"
   ]
  },
  {
   "cell_type": "markdown",
   "id": "c5be57c6",
   "metadata": {},
   "source": [
    "Будет использован тип кодирования OneHotEncoder для категориальных данных\n"
   ]
  },
  {
   "cell_type": "code",
   "execution_count": 37,
   "id": "2fd6f6de",
   "metadata": {},
   "outputs": [],
   "source": [
    "features_train_ohe = pd.get_dummies(features_train_st, drop_first=True)\n",
    "features_test_ohe = pd.get_dummies(features_test_st, drop_first=True)"
   ]
  },
  {
   "cell_type": "code",
   "execution_count": 38,
   "id": "de685754",
   "metadata": {},
   "outputs": [],
   "source": [
    "features_train_ohe = features_train_ohe.reset_index(drop=True)\n",
    "features_test_ohe = features_test_ohe.reset_index(drop=True)"
   ]
  },
  {
   "cell_type": "code",
   "execution_count": 39,
   "id": "31d21d84",
   "metadata": {},
   "outputs": [
    {
     "data": {
      "text/html": [
       "<div>\n",
       "<style scoped>\n",
       "    .dataframe tbody tr th:only-of-type {\n",
       "        vertical-align: middle;\n",
       "    }\n",
       "\n",
       "    .dataframe tbody tr th {\n",
       "        vertical-align: top;\n",
       "    }\n",
       "\n",
       "    .dataframe thead th {\n",
       "        text-align: right;\n",
       "    }\n",
       "</style>\n",
       "<table border=\"1\" class=\"dataframe\">\n",
       "  <thead>\n",
       "    <tr style=\"text-align: right;\">\n",
       "      <th></th>\n",
       "      <th>registrationyear</th>\n",
       "      <th>power</th>\n",
       "      <th>kilometer</th>\n",
       "      <th>vehicletype_convertible</th>\n",
       "      <th>vehicletype_coupe</th>\n",
       "      <th>vehicletype_other</th>\n",
       "      <th>vehicletype_sedan</th>\n",
       "      <th>vehicletype_small</th>\n",
       "      <th>vehicletype_suv</th>\n",
       "      <th>vehicletype_unknown</th>\n",
       "      <th>...</th>\n",
       "      <th>brand_smart</th>\n",
       "      <th>brand_sonstige_autos</th>\n",
       "      <th>brand_subaru</th>\n",
       "      <th>brand_suzuki</th>\n",
       "      <th>brand_toyota</th>\n",
       "      <th>brand_trabant</th>\n",
       "      <th>brand_volkswagen</th>\n",
       "      <th>brand_volvo</th>\n",
       "      <th>repaired_unknown</th>\n",
       "      <th>repaired_yes</th>\n",
       "    </tr>\n",
       "  </thead>\n",
       "  <tbody>\n",
       "    <tr>\n",
       "      <th>0</th>\n",
       "      <td>0.199623</td>\n",
       "      <td>-0.275648</td>\n",
       "      <td>0.581300</td>\n",
       "      <td>0</td>\n",
       "      <td>0</td>\n",
       "      <td>0</td>\n",
       "      <td>0</td>\n",
       "      <td>0</td>\n",
       "      <td>0</td>\n",
       "      <td>0</td>\n",
       "      <td>...</td>\n",
       "      <td>0</td>\n",
       "      <td>0</td>\n",
       "      <td>0</td>\n",
       "      <td>0</td>\n",
       "      <td>0</td>\n",
       "      <td>0</td>\n",
       "      <td>0</td>\n",
       "      <td>0</td>\n",
       "      <td>0</td>\n",
       "      <td>0</td>\n",
       "    </tr>\n",
       "    <tr>\n",
       "      <th>1</th>\n",
       "      <td>0.050499</td>\n",
       "      <td>-1.173943</td>\n",
       "      <td>0.581300</td>\n",
       "      <td>0</td>\n",
       "      <td>0</td>\n",
       "      <td>0</td>\n",
       "      <td>0</td>\n",
       "      <td>1</td>\n",
       "      <td>0</td>\n",
       "      <td>0</td>\n",
       "      <td>...</td>\n",
       "      <td>0</td>\n",
       "      <td>0</td>\n",
       "      <td>0</td>\n",
       "      <td>0</td>\n",
       "      <td>0</td>\n",
       "      <td>0</td>\n",
       "      <td>0</td>\n",
       "      <td>0</td>\n",
       "      <td>1</td>\n",
       "      <td>0</td>\n",
       "    </tr>\n",
       "    <tr>\n",
       "      <th>2</th>\n",
       "      <td>0.199623</td>\n",
       "      <td>-0.849027</td>\n",
       "      <td>0.581300</td>\n",
       "      <td>0</td>\n",
       "      <td>0</td>\n",
       "      <td>0</td>\n",
       "      <td>0</td>\n",
       "      <td>0</td>\n",
       "      <td>0</td>\n",
       "      <td>0</td>\n",
       "      <td>...</td>\n",
       "      <td>0</td>\n",
       "      <td>0</td>\n",
       "      <td>0</td>\n",
       "      <td>0</td>\n",
       "      <td>0</td>\n",
       "      <td>0</td>\n",
       "      <td>0</td>\n",
       "      <td>0</td>\n",
       "      <td>0</td>\n",
       "      <td>0</td>\n",
       "    </tr>\n",
       "    <tr>\n",
       "      <th>3</th>\n",
       "      <td>1.690859</td>\n",
       "      <td>-0.332986</td>\n",
       "      <td>-2.382297</td>\n",
       "      <td>0</td>\n",
       "      <td>0</td>\n",
       "      <td>0</td>\n",
       "      <td>0</td>\n",
       "      <td>0</td>\n",
       "      <td>0</td>\n",
       "      <td>0</td>\n",
       "      <td>...</td>\n",
       "      <td>0</td>\n",
       "      <td>0</td>\n",
       "      <td>0</td>\n",
       "      <td>0</td>\n",
       "      <td>0</td>\n",
       "      <td>0</td>\n",
       "      <td>1</td>\n",
       "      <td>0</td>\n",
       "      <td>0</td>\n",
       "      <td>0</td>\n",
       "    </tr>\n",
       "    <tr>\n",
       "      <th>4</th>\n",
       "      <td>-0.545996</td>\n",
       "      <td>-1.173943</td>\n",
       "      <td>-0.092244</td>\n",
       "      <td>0</td>\n",
       "      <td>0</td>\n",
       "      <td>0</td>\n",
       "      <td>1</td>\n",
       "      <td>0</td>\n",
       "      <td>0</td>\n",
       "      <td>0</td>\n",
       "      <td>...</td>\n",
       "      <td>0</td>\n",
       "      <td>0</td>\n",
       "      <td>0</td>\n",
       "      <td>0</td>\n",
       "      <td>0</td>\n",
       "      <td>0</td>\n",
       "      <td>0</td>\n",
       "      <td>0</td>\n",
       "      <td>0</td>\n",
       "      <td>0</td>\n",
       "    </tr>\n",
       "  </tbody>\n",
       "</table>\n",
       "<p>5 rows × 311 columns</p>\n",
       "</div>"
      ],
      "text/plain": [
       "   registrationyear     power  kilometer  vehicletype_convertible  \\\n",
       "0          0.199623 -0.275648   0.581300                        0   \n",
       "1          0.050499 -1.173943   0.581300                        0   \n",
       "2          0.199623 -0.849027   0.581300                        0   \n",
       "3          1.690859 -0.332986  -2.382297                        0   \n",
       "4         -0.545996 -1.173943  -0.092244                        0   \n",
       "\n",
       "   vehicletype_coupe  vehicletype_other  vehicletype_sedan  vehicletype_small  \\\n",
       "0                  0                  0                  0                  0   \n",
       "1                  0                  0                  0                  1   \n",
       "2                  0                  0                  0                  0   \n",
       "3                  0                  0                  0                  0   \n",
       "4                  0                  0                  1                  0   \n",
       "\n",
       "   vehicletype_suv  vehicletype_unknown  ...  brand_smart  \\\n",
       "0                0                    0  ...            0   \n",
       "1                0                    0  ...            0   \n",
       "2                0                    0  ...            0   \n",
       "3                0                    0  ...            0   \n",
       "4                0                    0  ...            0   \n",
       "\n",
       "   brand_sonstige_autos  brand_subaru  brand_suzuki  brand_toyota  \\\n",
       "0                     0             0             0             0   \n",
       "1                     0             0             0             0   \n",
       "2                     0             0             0             0   \n",
       "3                     0             0             0             0   \n",
       "4                     0             0             0             0   \n",
       "\n",
       "   brand_trabant  brand_volkswagen  brand_volvo  repaired_unknown  \\\n",
       "0              0                 0            0                 0   \n",
       "1              0                 0            0                 1   \n",
       "2              0                 0            0                 0   \n",
       "3              0                 1            0                 0   \n",
       "4              0                 0            0                 0   \n",
       "\n",
       "   repaired_yes  \n",
       "0             0  \n",
       "1             0  \n",
       "2             0  \n",
       "3             0  \n",
       "4             0  \n",
       "\n",
       "[5 rows x 311 columns]"
      ]
     },
     "execution_count": 39,
     "metadata": {},
     "output_type": "execute_result"
    }
   ],
   "source": [
    "features_train_ohe.head(5)"
   ]
  },
  {
   "cell_type": "markdown",
   "id": "871b8c5c",
   "metadata": {},
   "source": [
    "После разделения на выборки признаки таблица была разделена на две выборки тренировочная, тестовая. Стандартизированы признаки типом кодирования StandardScaler(), а также обработаны категориальные признаки типом кодирования OHE\n"
   ]
  },
  {
   "cell_type": "markdown",
   "id": "7767a4d7",
   "metadata": {},
   "source": [
    "# 2. Обучение моделей"
   ]
  },
  {
   "cell_type": "markdown",
   "id": "0ccfca9e",
   "metadata": {},
   "source": [
    "Согласно описанию проекта одна из моделей должна быть не бустингом, а среди бустинговых моделей должна быть LGBM. Поэтому в проекте я использую Линейная регрессия, как обучную модель и три бустинговые модели LightGBM, CATBOOST,XGB.\n"
   ]
  },
  {
   "cell_type": "markdown",
   "id": "9bc28881",
   "metadata": {},
   "source": [
    "## 2.1.  Линейная регрессия"
   ]
  },
  {
   "cell_type": "code",
   "execution_count": 40,
   "id": "6198745a",
   "metadata": {},
   "outputs": [
    {
     "name": "stdout",
     "output_type": "stream",
     "text": [
      "RMSE 1814.868174930316\n",
      "Wall time: 1min 5s\n"
     ]
    }
   ],
   "source": [
    "%%time\n",
    "\n",
    "\n",
    "model_lin = LinearRegression()\n",
    "#Обучаю модель\n",
    "model_lin.fit(features_train_ohe, target_train)\n",
    "#Определяю RMSE модели с помощью кросс-валидации\n",
    "regression_cv_score = cross_val_score(model_lin,features_train_ohe,target_train,scoring='neg_mean_absolute_error', cv=3)\n",
    "print('RMSE', abs (regression_cv_score.mean()))"
   ]
  },
  {
   "cell_type": "code",
   "execution_count": 41,
   "id": "7055868f",
   "metadata": {},
   "outputs": [
    {
     "name": "stdout",
     "output_type": "stream",
     "text": [
      "Wall time: 744 ms\n"
     ]
    }
   ],
   "source": [
    "%%time\n",
    "lin_pred = model_lin.predict(features_train_ohe)\n"
   ]
  },
  {
   "cell_type": "markdown",
   "id": "239b2f03",
   "metadata": {},
   "source": [
    "Модель Линейна регрессия показала с применением кодирования для категориальных признаков и стандартизацией количественных признаков результат RMSE 1814.86, временем обучения 65 с., с временем предсказания 0,74 секунд(744 мс)\n"
   ]
  },
  {
   "cell_type": "markdown",
   "id": "ed5c86e6",
   "metadata": {},
   "source": [
    "# 2.2. LightGBM"
   ]
  },
  {
   "cell_type": "markdown",
   "id": "ed2676d7",
   "metadata": {},
   "source": [
    "LightGBM — это фреймворк, который предоставляет реализацию деревьев принятия решений с градиентным бустингом. Он создан группой исследователей и разработчиков Microsoft. LightGBM известен своей более высокой скоростью обучения, хорошей точностью с параметрами по умолчанию, параллельным и GPU обучением, малым использованием памяти и возможностью обработки больших датасетов, которые не всегда помещаются в ней."
   ]
  },
  {
   "cell_type": "code",
   "execution_count": 42,
   "id": "675c4c18",
   "metadata": {},
   "outputs": [
    {
     "name": "stdout",
     "output_type": "stream",
     "text": [
      "<class 'pandas.core.frame.DataFrame'>\n",
      "Int64Index: 244344 entries, 253075 to 236702\n",
      "Data columns (total 9 columns):\n",
      " #   Column            Non-Null Count   Dtype   \n",
      "---  ------            --------------   -----   \n",
      " 0   vehicletype       244344 non-null  category\n",
      " 1   registrationyear  244344 non-null  int64   \n",
      " 2   gearbox           244344 non-null  category\n",
      " 3   power             244344 non-null  int64   \n",
      " 4   model             244344 non-null  category\n",
      " 5   kilometer         244344 non-null  int64   \n",
      " 6   fueltype          244344 non-null  category\n",
      " 7   brand             244344 non-null  category\n",
      " 8   repaired          244344 non-null  category\n",
      "dtypes: category(6), int64(3)\n",
      "memory usage: 9.1 MB\n"
     ]
    }
   ],
   "source": [
    "features_train.info()"
   ]
  },
  {
   "cell_type": "code",
   "execution_count": 43,
   "id": "678cc624",
   "metadata": {},
   "outputs": [],
   "source": [
    "def lgb_regr(features, target):\n",
    "    model = LGBMRegressor()\n",
    "    params = {\n",
    "        'boosting_type' : ['gbdt'],\n",
    "        'n_estimators' : [50, 100,],\n",
    "        'max_depth' : [5, 7, 10,],\n",
    "        'verbose' : [-1],\n",
    "        'random_state' : [1,2,3,4,5],\n",
    "        'force_col_wise': [True],\n",
    "        'num_leaves' : [127]}\n",
    "    grid_cv = GridSearchCV(estimator=model, param_grid=params, cv=3, n_jobs=-1, scoring='neg_root_mean_squared_error')\n",
    "    grid_cv.fit(features_train, target_train)\n",
    "    print('Лучшие гиперпараметры: ', grid_cv.best_params_)\n",
    "    print('RMSE:: {:.2f} '.format(grid_cv.best_score_* -1))\n",
    "    return grid_cv.best_params_"
   ]
  },
  {
   "cell_type": "code",
   "execution_count": 44,
   "id": "19586b2a",
   "metadata": {},
   "outputs": [
    {
     "name": "stdout",
     "output_type": "stream",
     "text": [
      "Лучшие гиперпараметры:  {'boosting_type': 'gbdt', 'force_col_wise': True, 'max_depth': 10, 'n_estimators': 100, 'num_leaves': 127, 'random_state': 1, 'verbose': -1}\n",
      "RMSE:: 1567.55 \n",
      "Wall time: 4min 20s\n"
     ]
    }
   ],
   "source": [
    "%%time\n",
    "lgb_params = lgb_regr(features_train, target_train)"
   ]
  },
  {
   "cell_type": "code",
   "execution_count": 45,
   "id": "2ae9a929",
   "metadata": {},
   "outputs": [
    {
     "name": "stdout",
     "output_type": "stream",
     "text": [
      "Wall time: 6.72 s\n"
     ]
    }
   ],
   "source": [
    "%%time\n",
    "model_lgb = LGBMRegressor(**lgb_params)\n",
    "model_lgb.fit(features_train, target_train)\n",
    "lgb_pred = model_lgb.predict(features_train)\n"
   ]
  },
  {
   "cell_type": "markdown",
   "id": "4fe4135f",
   "metadata": {},
   "source": [
    "Модель бустинга LGBM показала результат на тренировочной выборке RMSE 1567.55, с временем обучения 260 секуенд и временем предсказания 6.72 секунд при гиперпараметрах:'boosting_type': 'gbdt', 'force_col_wise': True, 'max_depth': 10, 'n_estimators': 100, 'num_leaves': 127, 'random_state': 1, 'verbose': -1\n"
   ]
  },
  {
   "cell_type": "markdown",
   "id": "96215a32",
   "metadata": {},
   "source": [
    "# 2.3 Сatboost"
   ]
  },
  {
   "cell_type": "code",
   "execution_count": 46,
   "id": "17cffc14",
   "metadata": {},
   "outputs": [],
   "source": [
    "cat_features = ['vehicletype', 'gearbox','model',\n",
    "       'fueltype', 'brand', 'repaired']"
   ]
  },
  {
   "cell_type": "code",
   "execution_count": 47,
   "id": "efe84c9a",
   "metadata": {},
   "outputs": [],
   "source": [
    "def catboost_regr(features, target):\n",
    "    model = CatBoostRegressor()\n",
    "    params = {\n",
    "            'n_estimators' : [50, 100],\n",
    "            'verbose' : [0],\n",
    "            'random_state' : [1, 2, 3, 4, 5],\n",
    "            'max_depth' : [5, 7, 10]\n",
    "    }\n",
    "    grid_cv = GridSearchCV(estimator=model, \n",
    "    param_grid=params, cv=3, n_jobs=-1, scoring='neg_root_mean_squared_error')\n",
    "    grid_cv.fit(features_train, target_train, verbose=10, cat_features=cat_features)\n",
    "    print('Лучшие гиперпараметры: ', grid_cv.best_params_)\n",
    "    print('RMSE:: {:.2f} '.format(grid_cv.best_score_* -1))\n",
    "    return grid_cv.best_params_"
   ]
  },
  {
   "cell_type": "code",
   "execution_count": 48,
   "id": "b323be2c",
   "metadata": {},
   "outputs": [
    {
     "name": "stdout",
     "output_type": "stream",
     "text": [
      "Learning rate set to 0.5\n",
      "0:\tlearn: 3055.7534690\ttotal: 534ms\tremaining: 52.9s\n",
      "10:\tlearn: 1741.1939337\ttotal: 3.46s\tremaining: 28s\n",
      "20:\tlearn: 1658.7470461\ttotal: 6.36s\tremaining: 23.9s\n",
      "30:\tlearn: 1597.9096767\ttotal: 9.1s\tremaining: 20.3s\n",
      "40:\tlearn: 1556.9299439\ttotal: 12.4s\tremaining: 17.8s\n",
      "50:\tlearn: 1529.2243591\ttotal: 15.1s\tremaining: 14.5s\n",
      "60:\tlearn: 1507.6550592\ttotal: 17.7s\tremaining: 11.3s\n",
      "70:\tlearn: 1488.5942385\ttotal: 20.5s\tremaining: 8.35s\n",
      "80:\tlearn: 1471.7312325\ttotal: 23.2s\tremaining: 5.44s\n",
      "90:\tlearn: 1456.0772151\ttotal: 25.9s\tremaining: 2.56s\n",
      "99:\tlearn: 1443.2158151\ttotal: 28.3s\tremaining: 0us\n",
      "Лучшие гиперпараметры:  {'max_depth': 10, 'n_estimators': 100, 'random_state': 5, 'verbose': 0}\n",
      "RMSE:: 1612.94 \n",
      "Wall time: 18min 14s\n"
     ]
    }
   ],
   "source": [
    "%%time\n",
    "catb_params = catboost_regr(features_train, target_train)"
   ]
  },
  {
   "cell_type": "code",
   "execution_count": 49,
   "id": "56d7fd80",
   "metadata": {},
   "outputs": [
    {
     "name": "stdout",
     "output_type": "stream",
     "text": [
      "Wall time: 29.6 s\n"
     ]
    }
   ],
   "source": [
    "%%time\n",
    "catb_model = CatBoostRegressor(**catb_params)\n",
    "catb_model.fit(features_train, target_train, cat_features=cat_features)\n",
    "catb_pred = catb_model.predict(features_test)\n"
   ]
  },
  {
   "cell_type": "markdown",
   "id": "26d5e111",
   "metadata": {},
   "source": [
    "Модель бустинга CATBOOST показала результат на тренировочной выборке RMSE 1612.94, с временем обучения 1094 сек., временем предсказания 29.6 сек. при гиперпараметрах max_depth': 10, 'n_estimators': 100, 'random_state': 2, 'verbose': 0}\n"
   ]
  },
  {
   "cell_type": "markdown",
   "id": "c1a5d50f",
   "metadata": {},
   "source": [
    "# 3. Анализ моделей"
   ]
  },
  {
   "cell_type": "code",
   "execution_count": 50,
   "id": "576ec1b1",
   "metadata": {},
   "outputs": [],
   "source": [
    "index = ['Линейная регрессия',\n",
    "         'LightGBM ',\n",
    "         'CatBoost']\n",
    "MODEL = {'RMSE на тренировочной выборке':[1814.86,\n",
    "                1567.55,\n",
    "                1612.94],\n",
    "        'Время обучения модели в сек.':[65,\n",
    "                                 260,\n",
    "                                 1094],\n",
    "        \n",
    "        'Время предсказания модели':[0.74,\n",
    "                                     6.72,\n",
    "                                     29.6]\n",
    "         }\n",
    "MODEL = pd.DataFrame(data=MODEL, index=index)     "
   ]
  },
  {
   "cell_type": "code",
   "execution_count": 51,
   "id": "11a9d726",
   "metadata": {},
   "outputs": [
    {
     "data": {
      "text/html": [
       "<style type=\"text/css\">\n",
       "#T_66350_row0_col0, #T_66350_row2_col1, #T_66350_row2_col2 {\n",
       "  background-color: #b40426;\n",
       "  color: #f1f1f1;\n",
       "}\n",
       "#T_66350_row0_col1, #T_66350_row0_col2, #T_66350_row1_col0 {\n",
       "  background-color: #3b4cc0;\n",
       "  color: #f1f1f1;\n",
       "}\n",
       "#T_66350_row1_col1 {\n",
       "  background-color: #779af7;\n",
       "  color: #f1f1f1;\n",
       "}\n",
       "#T_66350_row1_col2 {\n",
       "  background-color: #7ea1fa;\n",
       "  color: #f1f1f1;\n",
       "}\n",
       "#T_66350_row2_col0 {\n",
       "  background-color: #7597f6;\n",
       "  color: #f1f1f1;\n",
       "}\n",
       "</style>\n",
       "<table id=\"T_66350\">\n",
       "  <thead>\n",
       "    <tr>\n",
       "      <th class=\"blank level0\" >&nbsp;</th>\n",
       "      <th id=\"T_66350_level0_col0\" class=\"col_heading level0 col0\" >RMSE на тренировочной выборке</th>\n",
       "      <th id=\"T_66350_level0_col1\" class=\"col_heading level0 col1\" >Время обучения модели в сек.</th>\n",
       "      <th id=\"T_66350_level0_col2\" class=\"col_heading level0 col2\" >Время предсказания модели</th>\n",
       "    </tr>\n",
       "  </thead>\n",
       "  <tbody>\n",
       "    <tr>\n",
       "      <th id=\"T_66350_level0_row0\" class=\"row_heading level0 row0\" >Линейная регрессия</th>\n",
       "      <td id=\"T_66350_row0_col0\" class=\"data row0 col0\" >1814.860000</td>\n",
       "      <td id=\"T_66350_row0_col1\" class=\"data row0 col1\" >65</td>\n",
       "      <td id=\"T_66350_row0_col2\" class=\"data row0 col2\" >0.740000</td>\n",
       "    </tr>\n",
       "    <tr>\n",
       "      <th id=\"T_66350_level0_row1\" class=\"row_heading level0 row1\" >LightGBM </th>\n",
       "      <td id=\"T_66350_row1_col0\" class=\"data row1 col0\" >1567.550000</td>\n",
       "      <td id=\"T_66350_row1_col1\" class=\"data row1 col1\" >260</td>\n",
       "      <td id=\"T_66350_row1_col2\" class=\"data row1 col2\" >6.720000</td>\n",
       "    </tr>\n",
       "    <tr>\n",
       "      <th id=\"T_66350_level0_row2\" class=\"row_heading level0 row2\" >CatBoost</th>\n",
       "      <td id=\"T_66350_row2_col0\" class=\"data row2 col0\" >1612.940000</td>\n",
       "      <td id=\"T_66350_row2_col1\" class=\"data row2 col1\" >1094</td>\n",
       "      <td id=\"T_66350_row2_col2\" class=\"data row2 col2\" >29.600000</td>\n",
       "    </tr>\n",
       "  </tbody>\n",
       "</table>\n"
      ],
      "text/plain": [
       "<pandas.io.formats.style.Styler at 0x23fd9636c10>"
      ]
     },
     "execution_count": 51,
     "metadata": {},
     "output_type": "execute_result"
    }
   ],
   "source": [
    "MODEL\n",
    "MODEL.style\\\n",
    "    .background_gradient(cmap='coolwarm')"
   ]
  },
  {
   "cell_type": "markdown",
   "id": "31e4aeb9",
   "metadata": {},
   "source": [
    "Линейная регрессия RMSE 1814,86 на тренировочной выборке, со временем обучения 65 секунд, временем предсказания 0,74 секунды. LGBM RMSE 1567,55 на тренировочной выборке, со временем обучения 260 секунд, временем предсказания 6,72 секунды СATBOOST RMSE 1649,22 тренировочной выборке, со временем обучения 1094 секунд, временем предсказания 29,6 секунды. Исходя из анализа моделей наилучший результат RMSE у LGBM Boost модели, по времени обучения и предсказания Линейная регрессия. По моему мнению проведено тестирование модели LGBM, так как результат RMSE самый лучший и среднее время обучения и предсказывания, по сравнению с другими моделями.\n"
   ]
  },
  {
   "cell_type": "markdown",
   "id": "f35c00aa",
   "metadata": {},
   "source": [
    "# 4. Проверка тестовой модели"
   ]
  },
  {
   "cell_type": "markdown",
   "id": "2285b622",
   "metadata": {},
   "source": [
    "Самой лучшей себя показала модель LGBM\n"
   ]
  },
  {
   "cell_type": "code",
   "execution_count": 55,
   "id": "0b7b4f16",
   "metadata": {},
   "outputs": [
    {
     "name": "stdout",
     "output_type": "stream",
     "text": [
      "RMSE:: 1575.25 \n",
      "Wall time: 5.72 s\n"
     ]
    }
   ],
   "source": [
    "%%time\n",
    "model_lgb = LGBMRegressor(**lgb_params)\n",
    "model_lgb.fit(features_train, target_train)\n",
    "lgb_pred = model_lgb.predict(features_test)\n",
    "print('RMSE:: {:.2f} '.format(mean_squared_error(target_test, lgb_pred) ** .5))"
   ]
  },
  {
   "cell_type": "markdown",
   "id": "106d8b1c",
   "metadata": {},
   "source": [
    "\n",
    "На тестовой выборке LGBM показала результат 1575.25 при времени предсказания 5.72 сек.\n"
   ]
  },
  {
   "cell_type": "markdown",
   "id": "4499a1cb",
   "metadata": {},
   "source": [
    "# 5. Вывод"
   ]
  },
  {
   "cell_type": "markdown",
   "id": "54da97f9",
   "metadata": {},
   "source": [
    "Данные были представлены в виде таблицы с 14 столбцами, с целевым признаком стоимости автомобиля. Среди столбцов встречались категориальные и количественные признаки. При анализе данных были выявлено, что имеются пропущенные значения в категориальных данных 181077, также было выявлено 4 дубликата. Я заменила пропущенные значения в категориальных признаках на ‘unknown’.Также из таблицы были удалены дубликаты. Неинформативные столбцы с датами, количеством фотографий и почтовым индексом также были удалены. Аномальные значения с годом регистрации были также удалены. Аномальные значения в столбцах с мощностью автомобиля и в таргете. Замена и удаление аномальных значений будет произведена только до деления на выборки.\n",
    "\n",
    "Также я провела анализ данных среди категориальных и количественных признаков со стоимостью автомобиля. Наибольшая корреляция стоимости автомобиля с годом регистрации автомобиля(0.62). Наибольшая средняя стоимость автомобиля с типом кузова 'suv', 'convertable', типом топлива 'hybrid', 'electric', с автоматической коробкой передач, брендом автомомбиля 'mercedes-benz', 'porche', 'land rover'.\n",
    "\n",
    "При моделировании были использованы 3 модели: Линейная регрессия, LGBM, Catboost. При этом модели показали себя при обучении следующим образом: Линейная регрессия RMSE 1814,86 на тренировочной выборке, со временем обучения 65 секунд, временем предсказания 0,74 секунды. LGBM RMSE 1567,55 на тренировочной выборке, со временем обучения 260 секунд, временем предсказания 6,72 секунды СATBOOST RMSE 1649,22 тренировочной выборке, со временем обучения 1094 секунд, временем предсказания 32,6 секунды. Исходя из анализа моделей наилучший результат RMSE у LGBM Boost модели, по времени обучения и предсказания Линейная регрессия. По моему мнению проведено тестирование модели LGBM, так как результат RMSE самый лучший и среднее время обучения и предсказывания, по сравнению с другими моделями. Cамой лучшей моделью себя показала LGBM при RMSE 1567.55 время предсказания 6.72 На тестовой выборке LGBM показала результат 1575.25 при времени предсказания 5.72 сек.\n"
   ]
  }
 ],
 "metadata": {
  "kernelspec": {
   "display_name": "Python 3 (ipykernel)",
   "language": "python",
   "name": "python3"
  },
  "language_info": {
   "codemirror_mode": {
    "name": "ipython",
    "version": 3
   },
   "file_extension": ".py",
   "mimetype": "text/x-python",
   "name": "python",
   "nbconvert_exporter": "python",
   "pygments_lexer": "ipython3",
   "version": "3.9.13"
  }
 },
 "nbformat": 4,
 "nbformat_minor": 5
}
